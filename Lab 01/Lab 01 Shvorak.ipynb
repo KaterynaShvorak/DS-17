{
 "cells":[
  {
   "cell_type":"markdown",
   "source":[
    "# 1.Markdown cells\n",
    "* Hi! Its Main Academy?\n",
    "* All HTML tabs are supported!\n",
    "* Моя сторінка на лінкедін [Лінкедін](https:\/\/ua.linkedin.com\/)  \n",
    "# This is Heading1\n",
    "## This is Heading2\n",
    " some gray colored text:\n",
    " > This is where we can bring quotes and present them nicely.  \n",
    "\n",
    "And this is the paragraph about something very important. Even math:  \n",
    "$y_{sub} =\\sqrt({x}_{sub})$  \n",
    "\n",
    "Or python code example: \n",
    "\n",
    "``` \n",
    "import math \n",
    "def foo():\n",
    "   return \"foo\"\n",
    "```"
   ],
   "attachments":{
    
   },
   "metadata":{
    "datalore":{
     "node_id":"2gr5C16mACH6XjrSAgWSSZ",
     "type":"MD",
     "hide_input_from_viewers":false,
     "hide_output_from_viewers":false
    }
   }
  },
  {
   "cell_type":"markdown",
   "source":[
    "Here is the sample mean:  \n",
    "$\\bar{y}=\\frac{1}{n}{\\displaystyle\\sum_{i=1}^{n}y_i}$   \n",
    "\n",
    "Here is the sample variance:  \n",
    "$\\sigma^2={\\frac{\\displaystyle\\sum_{i=1}^{n} (y_i - \\bar{y})^2}{n-1}}$    \n",
    "\n",
    "Here is the sample standart deviation:  \n",
    "$\\sigma=\\sqrt{\\frac{\\displaystyle\\sum_{i=1}^{n} (y_i - \\bar{y})^2}{n-1}}$"
   ],
   "attachments":{
    
   },
   "metadata":{
    "datalore":{
     "node_id":"TzgIY8CSPCTD0cCsBi6JUf",
     "type":"MD",
     "hide_input_from_viewers":false,
     "hide_output_from_viewers":false
    }
   }
  }
 ],
 "metadata":{
  "kernelspec":{
   "display_name":"Python",
   "language":"python",
   "name":"python"
  },
  "datalore":{
   "version":1,
   "computation_mode":"JUPYTER",
   "package_manager":"pip",
   "base_environment":"default",
   "packages":[
    
   ]
  }
 },
 "nbformat":4,
 "nbformat_minor":4
}