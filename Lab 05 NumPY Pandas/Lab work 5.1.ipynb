{
 "cells":[
  {
   "cell_type":"markdown",
   "source":[
    "___\n",
    "\n",
    "<a href='https:\/\/mainacademy.ua\/'> <img src='https:\/\/mainacademy.ua\/wp-content\/uploads\/2019\/03\/logo-main.png' alt = 'Хмм, щось з інтернетом'\/><\/a>\n",
    "___\n",
    "\n",
    "# Module 5: Data analysis with NumPy and Pandas"
   ],
   "attachments":{
    
   },
   "metadata":{
    "datalore":{
     "node_id":"TRrz8XmJ3rsspoCjad7RXV",
     "type":"MD",
     "hide_input_from_viewers":false,
     "hide_output_from_viewers":false,
     "report_properties":{
      "rowId":"NX0VzTcQ641kxrOE6nufGZ"
     }
    }
   }
  },
  {
   "cell_type":"markdown",
   "source":[
    "## Lab work 5.1\n"
   ],
   "attachments":{
    
   },
   "metadata":{
    "datalore":{
     "node_id":"o7hle2xCBjkgVAQlYWv6Fc",
     "type":"MD",
     "hide_input_from_viewers":false,
     "hide_output_from_viewers":false,
     "report_properties":{
      "rowId":"AKpP4PFEAjs40jT7K5IZ0H"
     }
    }
   }
  },
  {
   "cell_type":"markdown",
   "source":[
    "#### Мета: \n",
    "\n",
    "* навчитися працювати із бібліотекою NumPy в Python"
   ],
   "attachments":{
    
   },
   "metadata":{
    "datalore":{
     "node_id":"DxVtB1mMkM8P4cvfwkzHMQ",
     "type":"MD",
     "hide_input_from_viewers":false,
     "hide_output_from_viewers":false,
     "report_properties":{
      "rowId":"zgxTPpyQjfucfpTKIrq6TJ"
     }
    }
   }
  },
  {
   "cell_type":"markdown",
   "source":[
    "### Завдання:"
   ],
   "attachments":{
    
   },
   "metadata":{
    "datalore":{
     "node_id":"iUDcFfUpavJexjFG8MMizb",
     "type":"MD",
     "hide_input_from_viewers":false,
     "hide_output_from_viewers":false,
     "report_properties":{
      "rowId":"iI7opdXzPb48grge2JAIpI"
     }
    }
   }
  },
  {
   "cell_type":"code",
   "source":[
    "import numpy as np"
   ],
   "execution_count":1,
   "outputs":[
    
   ],
   "metadata":{
    "datalore":{
     "node_id":"eaoOMkMSsKvoNpwuBR7Wba",
     "type":"CODE",
     "hide_input_from_viewers":false,
     "hide_output_from_viewers":false,
     "report_properties":{
      "rowId":"P8OYeLziPaV79Lk6it2aNi"
     }
    }
   }
  },
  {
   "cell_type":"markdown",
   "source":[
    "Вивести версію та конфігурацію бібліотеки:"
   ],
   "attachments":{
    
   },
   "metadata":{
    "datalore":{
     "node_id":"wqNZxHC1sSIzT6Br64zQxq",
     "type":"MD",
     "hide_input_from_viewers":false,
     "hide_output_from_viewers":false,
     "report_properties":{
      "rowId":"lbnqi4T36aAyM1nrhLz5Fv"
     }
    }
   }
  },
  {
   "cell_type":"code",
   "source":[
    "print(\"Версія NumPy:\", np.__version__)\n",
    "print(\"Конфігурація NumPy:\")\n",
    "np.show_config()"
   ],
   "execution_count":2,
   "outputs":[
    {
     "name":"stdout",
     "text":[
      "Версія NumPy: 1.23.5\n",
      "Конфігурація NumPy:\n",
      "openblas64__info:\n",
      "    libraries = ['openblas64_', 'openblas64_']\n",
      "    library_dirs = ['\/usr\/local\/lib']\n",
      "    language = c\n",
      "    define_macros = [('HAVE_CBLAS', None), ('BLAS_SYMBOL_SUFFIX', '64_'), ('HAVE_BLAS_ILP64', None)]\n",
      "    runtime_library_dirs = ['\/usr\/local\/lib']\n",
      "blas_ilp64_opt_info:\n",
      "    libraries = ['openblas64_', 'openblas64_']\n",
      "    library_dirs = ['\/usr\/local\/lib']\n",
      "    language = c\n",
      "    define_macros = [('HAVE_CBLAS', None), ('BLAS_SYMBOL_SUFFIX', '64_'), ('HAVE_BLAS_ILP64', None)]\n",
      "    runtime_library_dirs = ['\/usr\/local\/lib']\n",
      "openblas64__lapack_info:\n",
      "    libraries = ['openblas64_', 'openblas64_']\n",
      "    library_dirs = ['\/usr\/local\/lib']\n",
      "    language = c\n",
      "    define_macros = [('HAVE_CBLAS', None), ('BLAS_SYMBOL_SUFFIX', '64_'), ('HAVE_BLAS_ILP64', None), ('HAVE_LAPACKE', None)]\n",
      "    runtime_library_dirs = ['\/usr\/local\/lib']\n",
      "lapack_ilp64_opt_info:\n",
      "    libraries = ['openblas64_', 'openblas64_']\n",
      "    library_dirs = ['\/usr\/local\/lib']\n",
      "    language = c\n",
      "    define_macros = [('HAVE_CBLAS', None), ('BLAS_SYMBOL_SUFFIX', '64_'), ('HAVE_BLAS_ILP64', None), ('HAVE_LAPACKE', None)]\n",
      "    runtime_library_dirs = ['\/usr\/local\/lib']\n",
      "Supported SIMD extensions in this NumPy install:\n",
      "    baseline = SSE,SSE2,SSE3\n",
      "    found = SSSE3,SSE41,POPCNT,SSE42,AVX,F16C,FMA3,AVX2\n",
      "    not found = AVX512F,AVX512CD,AVX512_KNL,AVX512_KNM,AVX512_SKX,AVX512_CLX,AVX512_CNL,AVX512_ICL\n"
     ],
     "output_type":"stream"
    }
   ],
   "metadata":{
    "datalore":{
     "node_id":"ecCH5eT4dwyD3qY8OAs2Jy",
     "type":"CODE",
     "hide_input_from_viewers":false,
     "hide_output_from_viewers":false,
     "report_properties":{
      "rowId":"YwdHh7lZYu9WiF9MHeSi0f"
     }
    }
   }
  },
  {
   "cell_type":"markdown",
   "source":[
    "Створити вектор з 10 елементів, заповнений одиницями:"
   ],
   "attachments":{
    
   },
   "metadata":{
    "datalore":{
     "node_id":"USI6hOHBkij6LxzgxTSRDj",
     "type":"MD",
     "hide_input_from_viewers":false,
     "hide_output_from_viewers":false,
     "report_properties":{
      "rowId":"m39DYaLhy58lfT2OKsvqaf"
     }
    }
   }
  },
  {
   "cell_type":"code",
   "source":[
    "print (np.ones(10))"
   ],
   "execution_count":3,
   "outputs":[
    {
     "name":"stdout",
     "text":[
      "[1. 1. 1. 1. 1. 1. 1. 1. 1. 1.]\n"
     ],
     "output_type":"stream"
    }
   ],
   "metadata":{
    "datalore":{
     "node_id":"rHyDmAM9SluztNizsGEs95",
     "type":"CODE",
     "hide_input_from_viewers":false,
     "hide_output_from_viewers":false,
     "report_properties":{
      "rowId":"bcRt823rNobCGAJLBjmRq2"
     }
    }
   }
  },
  {
   "cell_type":"markdown",
   "source":[
    "Створити вектор із значеннями від 0 до 10:"
   ],
   "attachments":{
    
   },
   "metadata":{
    "datalore":{
     "node_id":"KxJDickYSIfpz4CO4Edp7r",
     "type":"MD",
     "hide_input_from_viewers":false,
     "hide_output_from_viewers":false,
     "report_properties":{
      "rowId":"dha5W2Ei0EUCMAClcMVY3r"
     }
    }
   }
  },
  {
   "cell_type":"code",
   "source":[
    "print (np.arange(11))"
   ],
   "execution_count":4,
   "outputs":[
    {
     "name":"stdout",
     "text":[
      "[ 0  1  2  3  4  5  6  7  8  9 10]\n"
     ],
     "output_type":"stream"
    }
   ],
   "metadata":{
    "datalore":{
     "node_id":"1yHZpuCJH1aKACnz40d0DB",
     "type":"CODE",
     "hide_input_from_viewers":false,
     "hide_output_from_viewers":false,
     "report_properties":{
      "rowId":"IaXSjq7qzWBlshSqzeS256"
     }
    }
   }
  },
  {
   "cell_type":"markdown",
   "source":[
    "Створити матрицю 5 на 5, заповнену нулями:"
   ],
   "attachments":{
    
   },
   "metadata":{
    "datalore":{
     "node_id":"xHIeYkTYI55RaAGAvGqUpm",
     "type":"MD",
     "hide_input_from_viewers":false,
     "hide_output_from_viewers":false,
     "report_properties":{
      "rowId":"dFep6CbQcJ3AKwdOWdRXo8"
     }
    }
   }
  },
  {
   "cell_type":"code",
   "source":[
    "print (np.zeros((5, 5)))"
   ],
   "execution_count":5,
   "outputs":[
    {
     "name":"stdout",
     "text":[
      "[[0. 0. 0. 0. 0.]\n",
      " [0. 0. 0. 0. 0.]\n",
      " [0. 0. 0. 0. 0.]\n",
      " [0. 0. 0. 0. 0.]\n",
      " [0. 0. 0. 0. 0.]]\n"
     ],
     "output_type":"stream"
    }
   ],
   "metadata":{
    "datalore":{
     "node_id":"nc5njWWPHnsJ4mzAyNuQ4D",
     "type":"CODE",
     "hide_input_from_viewers":false,
     "hide_output_from_viewers":false,
     "report_properties":{
      "rowId":"XyabqAWKSvjxV5X3HWpza1"
     }
    }
   }
  },
  {
   "cell_type":"markdown",
   "source":[
    "Заповнити вектор з 20 елементів випадковими цілими числами. Знайти індекси ненульових елементів:"
   ],
   "attachments":{
    
   },
   "metadata":{
    "datalore":{
     "node_id":"45xUUuQS55ZJBdMvGHequG",
     "type":"MD",
     "hide_input_from_viewers":false,
     "hide_output_from_viewers":false,
     "report_properties":{
      "rowId":"xKkPbJmWIV9UHNmV6EDO2u"
     }
    }
   }
  },
  {
   "cell_type":"code",
   "source":[
    "v = np.random.randint(0, 10, size = 20)\n",
    "print (v)\n",
    "print (np.nonzero(v))"
   ],
   "execution_count":6,
   "outputs":[
    {
     "name":"stdout",
     "text":[
      "[2 6 0 6 9 4 7 6 0 4 7 0 6 9 2 4 3 7 8 2]\n",
      "(array([ 0,  1,  3,  4,  5,  6,  7,  9, 10, 12, 13, 14, 15, 16, 17, 18, 19]),)\n"
     ],
     "output_type":"stream"
    }
   ],
   "metadata":{
    "datalore":{
     "node_id":"IQ2yCzoOEEmD8DbRS9HpUi",
     "type":"CODE",
     "hide_input_from_viewers":false,
     "hide_output_from_viewers":false,
     "report_properties":{
      "rowId":"RWowl7L5Jjr8cTlBCy0Oic"
     }
    }
   }
  },
  {
   "cell_type":"markdown",
   "source":[
    "Для вектора із попередньої задачі знайти середнє значення, медіану, стандартне відхилення:"
   ],
   "attachments":{
    
   },
   "metadata":{
    "datalore":{
     "node_id":"7GrNupXhuzzium0MXT9UM7",
     "type":"MD",
     "hide_input_from_viewers":false,
     "hide_output_from_viewers":false,
     "report_properties":{
      "rowId":"As8dOovX7MVkB5QtXt5pAb"
     }
    }
   }
  },
  {
   "cell_type":"code",
   "source":[
    "print (\"Середнє значення:\", np.mean(v))\n",
    "print (\"Медіана:\", np.median(v))\n",
    "print (\"Стандартне відхилення:\", np.std(v))"
   ],
   "execution_count":7,
   "outputs":[
    {
     "name":"stdout",
     "text":[
      "Середнє значення: 4.6\n",
      "Медіана: 5.0\n",
      "Стандартне відхилення: 2.853068523537421\n"
     ],
     "output_type":"stream"
    }
   ],
   "metadata":{
    "datalore":{
     "node_id":"QNUrDUyY1g47uIKkWzjJ7k",
     "type":"CODE",
     "hide_input_from_viewers":false,
     "hide_output_from_viewers":false,
     "report_properties":{
      "rowId":"z3TfDD7xtOqFBSBtttoHHB"
     }
    }
   }
  },
  {
   "cell_type":"markdown",
   "source":[
    "Створити дві матриці випадкових чисел розміром 4х2 та 2х2. Перемножити їх:"
   ],
   "attachments":{
    
   },
   "metadata":{
    "datalore":{
     "node_id":"l1oyIaVNj13BTXAECrgueD",
     "type":"MD",
     "hide_input_from_viewers":false,
     "hide_output_from_viewers":false,
     "report_properties":{
      "rowId":"344Hz5ggcXCqzhlAu99DRy"
     }
    }
   }
  },
  {
   "cell_type":"code",
   "source":[
    "a = np.random.rand(4, 2)\n",
    "b = np.random.rand(2, 2)\n",
    "\n",
    "print (\"Матриця 1:\", a)\n",
    "print (\"Матриця 2:\", b)\n",
    "result = np.dot(a, b)\n",
    "print (\"Результат множення:\", result)\n",
    "\n"
   ],
   "execution_count":8,
   "outputs":[
    {
     "name":"stdout",
     "text":[
      "Матриця 1: [[0.42737264 0.35528549]\n",
      " [0.06237049 0.52118557]\n",
      " [0.36130459 0.21770447]\n",
      " [0.44440996 0.85761369]]\n",
      "Матриця 2: [[0.50030424 0.52977099]\n",
      " [0.70276824 0.28897111]]\n",
      "Результат множення: [[0.4634997  0.32907687]\n",
      " [0.39747689 0.18364965]\n",
      " [0.33375801 0.25431899]\n",
      " [0.82504385 0.48326109]]\n"
     ],
     "output_type":"stream"
    }
   ],
   "metadata":{
    "datalore":{
     "node_id":"9OvdyPr754PvtlCqdb2D6c",
     "type":"CODE",
     "hide_input_from_viewers":false,
     "hide_output_from_viewers":false,
     "report_properties":{
      "rowId":"3dhtjpxJoPAoRh9U93iT59"
     }
    }
   }
  },
  {
   "cell_type":"markdown",
   "source":[
    "Результуючу матрицю із попередньої задачі перетворити у вектор. Знайти мінімальне та максимальне значення. \n",
    "\n",
    "Максимальне значення замінити на 0:"
   ],
   "attachments":{
    
   },
   "metadata":{
    "datalore":{
     "node_id":"ZbSusH4Fd8A6gudqr5Y4pG",
     "type":"MD",
     "hide_input_from_viewers":false,
     "hide_output_from_viewers":false,
     "report_properties":{
      "rowId":"9q9cE87vgNckTieqCxUQn8"
     }
    }
   }
  },
  {
   "cell_type":"code",
   "source":[
    "res_vec = result.flatten()\n",
    "print (res_vec)"
   ],
   "execution_count":9,
   "outputs":[
    {
     "name":"stdout",
     "text":[
      "[0.4634997  0.32907687 0.39747689 0.18364965 0.33375801 0.25431899\n",
      " 0.82504385 0.48326109]\n"
     ],
     "output_type":"stream"
    }
   ],
   "metadata":{
    "datalore":{
     "node_id":"yZMHQATvml3EvXwqazkUhJ",
     "type":"CODE",
     "hide_input_from_viewers":true,
     "hide_output_from_viewers":true
    }
   }
  },
  {
   "cell_type":"code",
   "source":[
    "min_v = np.min(res_vec)\n",
    "print(min_v )\n",
    "max_v = np.max(res_vec)\n",
    "print(max_v)"
   ],
   "execution_count":10,
   "outputs":[
    {
     "name":"stdout",
     "text":[
      "0.18364965306898579\n",
      "0.8250438532501392\n"
     ],
     "output_type":"stream"
    }
   ],
   "metadata":{
    "datalore":{
     "node_id":"2MVVkmoeSAvcZgj6g90af5",
     "type":"CODE",
     "hide_input_from_viewers":false,
     "hide_output_from_viewers":false,
     "report_properties":{
      "rowId":"nnZMu320sfOSW01RR2qVEh"
     }
    }
   }
  },
  {
   "cell_type":"code",
   "source":[
    "res_vec[res_vec == max_v] = 0"
   ],
   "execution_count":11,
   "outputs":[
    
   ],
   "metadata":{
    "datalore":{
     "node_id":"DpEBCRn1leAdiOq6YxMnvX",
     "type":"CODE",
     "hide_input_from_viewers":true,
     "hide_output_from_viewers":true
    }
   }
  },
  {
   "cell_type":"code",
   "source":[
    "print (res_vec)"
   ],
   "execution_count":12,
   "outputs":[
    {
     "name":"stdout",
     "text":[
      "[0.4634997  0.32907687 0.39747689 0.18364965 0.33375801 0.25431899\n",
      " 0.         0.48326109]\n"
     ],
     "output_type":"stream"
    }
   ],
   "metadata":{
    "datalore":{
     "node_id":"PYfturo4S5hMImjHNBFz1k",
     "type":"CODE",
     "hide_input_from_viewers":true,
     "hide_output_from_viewers":true
    }
   }
  },
  {
   "cell_type":"markdown",
   "source":[
    "Знайдіть кореляцію першого рядка матриці із попереднього завдання із іншими рядками:"
   ],
   "attachments":{
    
   },
   "metadata":{
    "datalore":{
     "node_id":"lG84CF4pIxHKXZk8FKglsg",
     "type":"MD",
     "hide_input_from_viewers":false,
     "hide_output_from_viewers":false,
     "report_properties":{
      "rowId":"xtdytv9uQOX2kCZ1AFccAv"
     }
    }
   }
  },
  {
   "cell_type":"code",
   "source":[
    "corr_mat = np.corrcoef(result[0], result[1:])\n",
    "print (corr_mat)"
   ],
   "execution_count":17,
   "outputs":[
    {
     "name":"stdout",
     "text":[
      "[[1. 1. 1. 1.]\n",
      " [1. 1. 1. 1.]\n",
      " [1. 1. 1. 1.]\n",
      " [1. 1. 1. 1.]]\n"
     ],
     "output_type":"stream"
    }
   ],
   "metadata":{
    "datalore":{
     "node_id":"JFqE8AEforEpdt54Q458Kr",
     "type":"CODE",
     "hide_input_from_viewers":false,
     "hide_output_from_viewers":false,
     "report_properties":{
      "rowId":"xS9NK8tLo1LrXuFX8fxxU4"
     }
    }
   }
  },
  {
   "cell_type":"markdown",
   "source":[
    "Дано матрицю. Знайти ранг матриці:"
   ],
   "attachments":{
    
   },
   "metadata":{
    "datalore":{
     "node_id":"yECVuxRXe7FOIAy04Y6BLT",
     "type":"MD",
     "hide_input_from_viewers":false,
     "hide_output_from_viewers":false,
     "report_properties":{
      "rowId":"P1jZ5AeHJK6Gk8K4FOAT8e"
     }
    }
   }
  },
  {
   "cell_type":"code",
   "source":[
    "a = np.array([[ 1,  4, 5],\n",
    "              [7, 3, 2],\n",
    "              [9, 16, 1]])\n",
    "\n",
    "np.linalg.matrix_rank(a)"
   ],
   "execution_count":18,
   "outputs":[
    {
     "data":{
      "text\/plain":[
       "3"
      ]
     },
     "metadata":{
      
     },
     "output_type":"display_data"
    }
   ],
   "metadata":{
    "datalore":{
     "node_id":"eMpoPduQkSOtGDcDZ3mEKS",
     "type":"CODE",
     "hide_input_from_viewers":false,
     "hide_output_from_viewers":false,
     "report_properties":{
      "rowId":"O94vIlX2ejEjU2gq79niDh"
     }
    }
   }
  },
  {
   "cell_type":"markdown",
   "source":[
    "Знайти визначник матриці:"
   ],
   "attachments":{
    
   },
   "metadata":{
    "datalore":{
     "node_id":"5Aeeb8wZ7B2SWj2EiPsZUp",
     "type":"MD",
     "hide_input_from_viewers":false,
     "hide_output_from_viewers":false,
     "report_properties":{
      "rowId":"9DXDPUeAqVrKxM5VNbC9eI"
     }
    }
   }
  },
  {
   "cell_type":"code",
   "source":[
    "np.linalg.det(a)"
   ],
   "execution_count":19,
   "outputs":[
    {
     "data":{
      "text\/plain":[
       "440.0000000000002"
      ]
     },
     "metadata":{
      
     },
     "output_type":"display_data"
    }
   ],
   "metadata":{
    "datalore":{
     "node_id":"Is4GjXEhGyMvU291KwmHkk",
     "type":"CODE",
     "hide_input_from_viewers":true,
     "hide_output_from_viewers":true
    }
   }
  },
  {
   "cell_type":"markdown",
   "source":[
    "Знайти власні значення та власні вектори матриці: "
   ],
   "attachments":{
    
   },
   "metadata":{
    "datalore":{
     "node_id":"j7VS6m7nSACvjtIs8ytLLK",
     "type":"MD",
     "hide_input_from_viewers":false,
     "hide_output_from_viewers":false,
     "report_properties":{
      "rowId":"xwQE3hRzyVf74eFsdWysJQ"
     }
    }
   }
  },
  {
   "cell_type":"code",
   "source":[
    "eigenvalues, eigenvectors = np.linalg.eig(a)\n",
    "eigenvalues, eigenvectors"
   ],
   "execution_count":20,
   "outputs":[
    {
     "data":{
      "text\/plain":[
       "(array([14.13520334+0.j        , -4.56760167+3.20389947j,\n",
       "        -4.56760167-3.20389947j]),\n",
       " array([[ 0.43131913+0.j        , -0.31386258-0.47450898j,\n",
       "         -0.31386258+0.47450898j],\n",
       "        [ 0.41502436+0.j        , -0.07049527+0.4090732j ,\n",
       "         -0.07049527-0.4090732j ],\n",
       "        [ 0.8010734 +0.j        ,  0.7099444 +0.j        ,\n",
       "          0.7099444 -0.j        ]]))"
      ]
     },
     "metadata":{
      
     },
     "output_type":"display_data"
    }
   ],
   "metadata":{
    "datalore":{
     "node_id":"k1STvoQcXu3utLHw84qs74",
     "type":"CODE",
     "hide_input_from_viewers":false,
     "hide_output_from_viewers":false,
     "report_properties":{
      "rowId":"UMUvwRCvSIlKQjDNtrIRQB"
     }
    }
   }
  },
  {
   "cell_type":"markdown",
   "source":[
    "Знайдіть число, що найчастіше зустрічається в масиві:"
   ],
   "attachments":{
    
   },
   "metadata":{
    "datalore":{
     "node_id":"1cNfO2sqRpdYPJJQ4bQZZL",
     "type":"MD",
     "hide_input_from_viewers":false,
     "hide_output_from_viewers":false,
     "report_properties":{
      "rowId":"gMK889WinYYf2Rn2B0VFV7"
     }
    }
   }
  },
  {
   "cell_type":"code",
   "source":[
    "a = np.random.randint(0,10,50)\n",
    "counts = np.bincount(a)\n",
    "most_frequent = np.argmax(counts)\n",
    "print (a)\n",
    "print (counts)\n",
    "print (most_frequent)"
   ],
   "execution_count":21,
   "outputs":[
    {
     "name":"stdout",
     "text":[
      "[4 5 1 2 3 1 6 7 8 9 4 2 0 5 1 9 9 2 0 2 1 2 3 8 2 2 0 7 6 0 3 7 4 0 3 0 2\n",
      " 0 3 1 6 2 2 0 2 3 0 0 1 1]\n",
      "[10  7 11  6  3  2  3  3  2  3]\n",
      "2\n"
     ],
     "output_type":"stream"
    }
   ],
   "metadata":{
    "datalore":{
     "node_id":"LhrGLf4nm2d4amkzaVywuF",
     "type":"CODE",
     "hide_input_from_viewers":false,
     "hide_output_from_viewers":false,
     "report_properties":{
      "rowId":"VRNbiFCo8Por4eaNg6RLpb"
     }
    }
   }
  },
  {
   "cell_type":"markdown",
   "source":[
    "Виведіть лише парні числа, що діляться на 5:"
   ],
   "attachments":{
    
   },
   "metadata":{
    "datalore":{
     "node_id":"f02d7tfnpwRpN1xTtJ6JSh",
     "type":"MD",
     "hide_input_from_viewers":false,
     "hide_output_from_viewers":false,
     "report_properties":{
      "rowId":"BLvhiUIATQp3zp1oRZnDY7"
     }
    }
   }
  },
  {
   "cell_type":"code",
   "source":[
    "a = np.random.randint(0,10,50)\n",
    "print (a)"
   ],
   "execution_count":22,
   "outputs":[
    {
     "name":"stdout",
     "text":[
      "[2 6 7 8 2 9 2 7 9 9 6 8 1 6 1 5 3 3 6 8 0 8 4 5 7 6 7 9 4 8 7 0 9 7 5 5 6\n",
      " 6 1 8 2 9 0 4 6 0 0 0 5 4]\n"
     ],
     "output_type":"stream"
    }
   ],
   "metadata":{
    "datalore":{
     "node_id":"Q8nfY5l5VCavjdBsrE2Kv1",
     "type":"CODE",
     "hide_input_from_viewers":false,
     "hide_output_from_viewers":false,
     "report_properties":{
      "rowId":"hJTEMgaJLcfxwPIhGPxHwm"
     }
    }
   }
  },
  {
   "cell_type":"code",
   "source":[
    "for i in a:\n",
    "    if i%5 == 0 and i%2 == 0:\n",
    "        print (i)"
   ],
   "execution_count":23,
   "outputs":[
    {
     "name":"stdout",
     "text":[
      "0\n",
      "0\n",
      "0\n",
      "0\n",
      "0\n",
      "0\n"
     ],
     "output_type":"stream"
    }
   ],
   "metadata":{
    "datalore":{
     "node_id":"JJiwp9OT8WGkS6TcZQXHOu",
     "type":"CODE",
     "hide_input_from_viewers":true,
     "hide_output_from_viewers":true
    }
   }
  },
  {
   "cell_type":"markdown",
   "source":[
    "Розв'яжіть систему рівнянь:\n",
    "$$2x + 5y = 1 $$\n",
    "\n",
    "$$x - 10y = 3  $$\n",
    "   "
   ],
   "attachments":{
    
   },
   "metadata":{
    "datalore":{
     "node_id":"qczDng4n3adx7NiWsdrwtN",
     "type":"MD",
     "hide_input_from_viewers":false,
     "hide_output_from_viewers":false,
     "report_properties":{
      "rowId":"PazzEq3Y4Y2yl81nsEDp5e"
     }
    }
   }
  },
  {
   "cell_type":"code",
   "source":[
    "# матриця коефіцієнтів X Y\n",
    "A = np.array([[2, 5], [1, -10]])\n",
    "\n",
    "# вектор вільних членів\n",
    "B = np.array([1, 3])\n",
    "\n",
    "X = np.linalg.solve(A, B)\n",
    "\n",
    "print (X)"
   ],
   "execution_count":24,
   "outputs":[
    {
     "name":"stdout",
     "text":[
      "[ 1.  -0.2]\n"
     ],
     "output_type":"stream"
    }
   ],
   "metadata":{
    "datalore":{
     "node_id":"YGdn4pqx6Fsqmk9HWYraUw",
     "type":"CODE",
     "hide_input_from_viewers":false,
     "hide_output_from_viewers":false,
     "report_properties":{
      "rowId":"MNWmBL0oaf4uLFtkMB3n08"
     }
    }
   }
  }
 ],
 "metadata":{
  "kernelspec":{
   "display_name":"Python",
   "language":"python",
   "name":"python"
  },
  "datalore":{
   "computation_mode":"JUPYTER",
   "package_manager":"pip",
   "base_environment":"default",
   "packages":[
    
   ],
   "report_row_ids":[
    "NX0VzTcQ641kxrOE6nufGZ",
    "AKpP4PFEAjs40jT7K5IZ0H",
    "zgxTPpyQjfucfpTKIrq6TJ",
    "iI7opdXzPb48grge2JAIpI",
    "P8OYeLziPaV79Lk6it2aNi",
    "lbnqi4T36aAyM1nrhLz5Fv",
    "YwdHh7lZYu9WiF9MHeSi0f",
    "m39DYaLhy58lfT2OKsvqaf",
    "bcRt823rNobCGAJLBjmRq2",
    "dha5W2Ei0EUCMAClcMVY3r",
    "IaXSjq7qzWBlshSqzeS256",
    "dFep6CbQcJ3AKwdOWdRXo8",
    "XyabqAWKSvjxV5X3HWpza1",
    "xKkPbJmWIV9UHNmV6EDO2u",
    "RWowl7L5Jjr8cTlBCy0Oic",
    "As8dOovX7MVkB5QtXt5pAb",
    "z3TfDD7xtOqFBSBtttoHHB",
    "344Hz5ggcXCqzhlAu99DRy",
    "3dhtjpxJoPAoRh9U93iT59",
    "9q9cE87vgNckTieqCxUQn8",
    "nnZMu320sfOSW01RR2qVEh",
    "xtdytv9uQOX2kCZ1AFccAv",
    "xS9NK8tLo1LrXuFX8fxxU4",
    "P1jZ5AeHJK6Gk8K4FOAT8e",
    "O94vIlX2ejEjU2gq79niDh",
    "9DXDPUeAqVrKxM5VNbC9eI",
    "IojDY2jVOyw9ziNlfRAz5V",
    "xwQE3hRzyVf74eFsdWysJQ",
    "UMUvwRCvSIlKQjDNtrIRQB",
    "gMK889WinYYf2Rn2B0VFV7",
    "VRNbiFCo8Por4eaNg6RLpb",
    "BLvhiUIATQp3zp1oRZnDY7",
    "hJTEMgaJLcfxwPIhGPxHwm",
    "PazzEq3Y4Y2yl81nsEDp5e",
    "MNWmBL0oaf4uLFtkMB3n08"
   ],
   "version":2
  }
 },
 "nbformat":4,
 "nbformat_minor":4
}