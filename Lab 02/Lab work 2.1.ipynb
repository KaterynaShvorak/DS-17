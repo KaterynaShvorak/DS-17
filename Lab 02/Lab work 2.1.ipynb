{
 "cells": [
  {
   "attachments": {},
   "cell_type": "markdown",
   "metadata": {
    "datalore": {
     "hide_input_from_viewers": false,
     "hide_output_from_viewers": false,
     "node_id": "XetEbEGyY6v3rvVU2Xlx9a",
     "report_properties": {},
     "type": "MD"
    }
   },
   "source": [
    "___\n",
    "\n",
    "<a href='https://mainacademy.ua/'> <img src='https://mainacademy.ua/wp-content/uploads/2019/03/logo-main.png' alt = 'Хмм, щось з інтернетом'/></a>\n",
    "___\n",
    "\n",
    "# Module 2: Basic Python"
   ]
  },
  {
   "attachments": {},
   "cell_type": "markdown",
   "metadata": {
    "datalore": {
     "hide_input_from_viewers": false,
     "hide_output_from_viewers": false,
     "node_id": "wmvrxEX6ciZLSY0ieyOCb6",
     "report_properties": {},
     "type": "MD"
    }
   },
   "source": [
    "## Lab work 2.1\n"
   ]
  },
  {
   "attachments": {},
   "cell_type": "markdown",
   "metadata": {
    "datalore": {
     "hide_input_from_viewers": false,
     "hide_output_from_viewers": false,
     "node_id": "CEL38a46ac1nKlKjoMcP33",
     "report_properties": {},
     "type": "MD"
    }
   },
   "source": [
    "#### Мета: \n",
    "\n",
    "* навчитися працювати із основними типами та структурами даних в Python;\n",
    "* ознайомитися із базовими алгоритмами;"
   ]
  },
  {
   "attachments": {},
   "cell_type": "markdown",
   "metadata": {
    "datalore": {
     "hide_input_from_viewers": false,
     "hide_output_from_viewers": false,
     "node_id": "Pte5GUanEIl6mWNrPEtkSh",
     "report_properties": {},
     "type": "MD"
    }
   },
   "source": [
    "#### Завдання 1"
   ]
  },
  {
   "attachments": {},
   "cell_type": "markdown",
   "metadata": {
    "datalore": {
     "hide_input_from_viewers": false,
     "hide_output_from_viewers": false,
     "node_id": "5ruYqWFDfqgk3zS2hP0jt4",
     "report_properties": {},
     "type": "MD"
    }
   },
   "source": [
    "Обчислити площу трикутника, коли відома сторона та проведена висота до неї"
   ]
  },
  {
   "cell_type": "code",
   "execution_count": null,
   "metadata": {
    "datalore": {
     "hide_input_from_viewers": false,
     "hide_output_from_viewers": false,
     "node_id": "fmRWfB5mEH0aFQaOfWUfF6",
     "report_properties": {},
     "type": "CODE"
    },
    "vscode": {
     "languageId": "python"
    }
   },
   "outputs": [],
   "source": [
    "a = int(input(\"Довжина сторони\"))\n",
    "h = int(input(\"Довжина висоти\"))\n",
    "area = (a*h)/2\n",
    "print(\"Площа прямокутника: \", area)"
   ]
  },
  {
   "attachments": {},
   "cell_type": "markdown",
   "metadata": {
    "datalore": {
     "hide_input_from_viewers": false,
     "hide_output_from_viewers": false,
     "node_id": "vhr6ocRfJK7lnP9Qa66HfA",
     "report_properties": {},
     "type": "MD"
    }
   },
   "source": [
    "#### Завдання 2"
   ]
  },
  {
   "attachments": {},
   "cell_type": "markdown",
   "metadata": {
    "datalore": {
     "hide_input_from_viewers": false,
     "hide_output_from_viewers": false,
     "node_id": "oXj66LczrHPo0JUYtknsUj",
     "report_properties": {},
     "type": "MD"
    }
   },
   "source": [
    "Дано трицифрове число. Виведіть окремо кожну цифру числа та суми цифр число\n",
    "\n",
    "Реалізуйте завдання двома способами (використовуючи стрічки та оператори `%`, `//`)"
   ]
  },
  {
   "cell_type": "code",
   "execution_count": 2,
   "metadata": {
    "datalore": {
     "hide_input_from_viewers": false,
     "hide_output_from_viewers": false,
     "node_id": "f1gwff4mnY3y3gcqabnI1M",
     "report_properties": {},
     "type": "CODE"
    },
    "vscode": {
     "languageId": "python"
    }
   },
   "outputs": [
    {
     "name": "stdout",
     "output_type": "stream",
     "text": [
      "Введіть трицифрове число 159\n",
      "Перше число 1\n",
      "Друге число 5\n",
      "Третє число 9\n",
      "Сума цифр 15\n"
     ]
    }
   ],
   "source": [
    "N = input(\"Введіть трицифрове число\")\n",
    "print ('Перше число', N[0])\n",
    "print ('Друге число', N[1])\n",
    "print ('Третє число', N[2])\n",
    "a = int (N[0])\n",
    "b = int (N[1])\n",
    "c = int (N[2])\n",
    "print ('Сума цифр', a + b + c)"
   ]
  },
  {
   "cell_type": "code",
   "execution_count": 3,
   "metadata": {
    "datalore": {
     "hide_input_from_viewers": false,
     "hide_output_from_viewers": false,
     "node_id": "u5akYTCSi05jAhmRCdS07F",
     "report_properties": {},
     "type": "CODE"
    },
    "vscode": {
     "languageId": "python"
    }
   },
   "outputs": [
    {
     "name": "stdout",
     "output_type": "stream",
     "text": [
      "Введіть трицифрове число 159\n",
      "Перше число 1\n",
      "Друге число 5\n",
      "Третє число 9\n",
      "Сума цифр 15\n"
     ]
    }
   ],
   "source": [
    "N = int(input(\"Введіть трицифрове число\"))\n",
    "first_digit = N//100\n",
    "last_digit = N%10\n",
    "second_digit = N%100//10\n",
    "print ('Перше число', first_digit)\n",
    "print ('Друге число', second_digit)\n",
    "print ('Третє число', last_digit)\n",
    "print ('Сума цифр', first_digit + second_digit + last_digit)"
   ]
  },
  {
   "attachments": {},
   "cell_type": "markdown",
   "metadata": {
    "datalore": {
     "hide_input_from_viewers": false,
     "hide_output_from_viewers": false,
     "node_id": "g2do8y1nCwzsrRqHQ3ImyI",
     "report_properties": {},
     "type": "MD"
    }
   },
   "source": [
    "#### Завдання 3"
   ]
  },
  {
   "attachments": {},
   "cell_type": "markdown",
   "metadata": {
    "datalore": {
     "hide_input_from_viewers": false,
     "hide_output_from_viewers": false,
     "node_id": "imvDhOoKRXmUjzMhQAHSxP",
     "report_properties": {},
     "type": "MD"
    }
   },
   "source": [
    "Дано речення (стрічка). \n",
    "* Розбийте речення по словах і помістіть їх у список. \n",
    "* Виведіть кількість слів у речені.\n",
    "* Утворіть нове речення, що складається з першого та останнього слова із початкового речення."
   ]
  },
  {
   "cell_type": "code",
   "execution_count": 5,
   "metadata": {
    "datalore": {
     "hide_input_from_viewers": false,
     "hide_output_from_viewers": false,
     "node_id": "hcVRjosig138ty31830KDw",
     "report_properties": {},
     "type": "CODE"
    },
    "vscode": {
     "languageId": "python"
    }
   },
   "outputs": [],
   "source": [
    "sentence = 'My favourite tutor in academy is Ihor'"
   ]
  },
  {
   "cell_type": "code",
   "execution_count": 6,
   "metadata": {
    "datalore": {
     "hide_input_from_viewers": false,
     "hide_output_from_viewers": false,
     "node_id": "uXtzXoPNMaHqTgr7U25mBc",
     "report_properties": {},
     "type": "CODE"
    },
    "vscode": {
     "languageId": "python"
    }
   },
   "outputs": [
    {
     "name": "stdout",
     "output_type": "stream",
     "text": [
      "['My', 'favourite', 'tutor', 'in', 'academy', 'is', 'Ihor']\n"
     ]
    }
   ],
   "source": [
    "list_s = sentence.split()\n",
    "print(list_s) "
   ]
  },
  {
   "cell_type": "code",
   "execution_count": 7,
   "metadata": {
    "datalore": {
     "hide_input_from_viewers": false,
     "hide_output_from_viewers": false,
     "node_id": "mLP12jVNOHy506Z5aEMzUJ",
     "report_properties": {},
     "type": "CODE"
    },
    "vscode": {
     "languageId": "python"
    }
   },
   "outputs": [
    {
     "name": "stdout",
     "output_type": "stream",
     "text": [
      "7\n"
     ]
    }
   ],
   "source": [
    "print (len(list_s))"
   ]
  },
  {
   "cell_type": "code",
   "execution_count": 8,
   "metadata": {
    "datalore": {
     "hide_input_from_viewers": false,
     "hide_output_from_viewers": false,
     "node_id": "UWSUGJVW66pxgcX92Lo3N8",
     "report_properties": {},
     "type": "CODE"
    },
    "vscode": {
     "languageId": "python"
    }
   },
   "outputs": [
    {
     "name": "stdout",
     "output_type": "stream",
     "text": [
      "My Ihor\n"
     ]
    }
   ],
   "source": [
    "a = list_s[0] + ' ' + list_s[-1]\n",
    "print (a)"
   ]
  },
  {
   "attachments": {},
   "cell_type": "markdown",
   "metadata": {
    "datalore": {
     "hide_input_from_viewers": false,
     "hide_output_from_viewers": false,
     "node_id": "msA2RghGhYYFxB35zwWm4r",
     "report_properties": {},
     "type": "MD"
    }
   },
   "source": [
    "#### Завдання 4"
   ]
  },
  {
   "attachments": {},
   "cell_type": "markdown",
   "metadata": {
    "datalore": {
     "hide_input_from_viewers": false,
     "hide_output_from_viewers": false,
     "node_id": "XQfX4IvqlafYKCzaNyYSzQ",
     "report_properties": {},
     "type": "MD"
    }
   },
   "source": [
    "Перевірте, чи справджується формула: $$ sin^2x + cos^2x = 1$$\n",
    "\n",
    "Напишіть код, що реалізує цю формулу. Нагадую, що тригонометричні функції приймають аргументи в радіанній мірі"
   ]
  },
  {
   "cell_type": "code",
   "execution_count": 10,
   "metadata": {
    "datalore": {
     "hide_input_from_viewers": false,
     "hide_output_from_viewers": false,
     "node_id": "OQ9NNNlEjZXfmphMfPePCR",
     "report_properties": {},
     "type": "CODE"
    },
    "vscode": {
     "languageId": "python"
    }
   },
   "outputs": [
    {
     "name": "stdout",
     "output_type": "stream",
     "text": [
      "Введіть x: 5\n",
      "True\n"
     ]
    }
   ],
   "source": [
    "import math\n",
    "x = int(input('Введіть x:'))\n",
    "y = math.radians(x)\n",
    "print((math.sin(y)**2) + (math.cos(y)**2) == 1)"
   ]
  },
  {
   "attachments": {},
   "cell_type": "markdown",
   "metadata": {
    "datalore": {
     "hide_input_from_viewers": false,
     "hide_output_from_viewers": false,
     "node_id": "My6SrHCC0B3EKMsixFfz0O",
     "report_properties": {},
     "type": "MD"
    }
   },
   "source": [
    "#### Завдання 5"
   ]
  },
  {
   "attachments": {},
   "cell_type": "markdown",
   "metadata": {
    "datalore": {
     "hide_input_from_viewers": false,
     "hide_output_from_viewers": false,
     "node_id": "nRZiL5zyu71VJvZFon7sbL",
     "report_properties": {},
     "type": "MD"
    }
   },
   "source": [
    "Напишіть програму для обчислення коренів квадратного рівняння.\n",
    "\n",
    "Нагадую, що `n`-го степеня має `n` коренів. (Корені можуть бути комплексні)"
   ]
  },
  {
   "cell_type": "code",
   "execution_count": 12,
   "metadata": {
    "datalore": {
     "hide_input_from_viewers": false,
     "hide_output_from_viewers": false,
     "node_id": "wV8IOaQ6bMs2tuFkn2iG1z",
     "report_properties": {},
     "type": "CODE"
    },
    "vscode": {
     "languageId": "python"
    }
   },
   "outputs": [
    {
     "name": "stdout",
     "output_type": "stream",
     "text": [
      "a =  5\n",
      "b =  6\n",
      "c =  7\n",
      "x1 = (-0.6+1.0198039027185568j) \n",
      "x2 = (-0.6-1.0198039027185568j)\n"
     ]
    }
   ],
   "source": [
    "import cmath\n",
    "a = int(input(\"a = \"))\n",
    "b = int(input(\"b = \"))\n",
    "c = int(input(\"c = \"))\n",
    "D = b ** 2 - 4 * a * c\n",
    "if D > 0:                                              # шукаємо корені при додатному дискримінанті\n",
    "    x1 = (-b + math.sqrt(D)) / (2 * a)                 \n",
    "    x2 = (-b - math.sqrt(D)) / (2 * a)\n",
    "    print('x1 = %s \\nx2 = %s' % (x1, x2))\n",
    "elif D == 0:                                           # шукаємо корені, коли дискримінант дорівнює нулю\n",
    "    x = -b / (2 * a)\n",
    "    print('x = %s' % x)\n",
    "else:                                                  # якщо дискримінант від'ємний\n",
    "    x1 = (-b + cmath.sqrt(D)) / (2 * a)\n",
    "    x2 = (-b - cmath.sqrt(D)) / (2 * a)\n",
    "    print('x1 = %s \\nx2 = %s' % (x1, x2))"
   ]
  },
  {
   "attachments": {},
   "cell_type": "markdown",
   "metadata": {
    "datalore": {
     "hide_input_from_viewers": false,
     "hide_output_from_viewers": false,
     "node_id": "mdY03vwflDOhPBgjVzFpMv",
     "report_properties": {},
     "type": "MD"
    }
   },
   "source": [
    "#### Завдання 6"
   ]
  },
  {
   "attachments": {},
   "cell_type": "markdown",
   "metadata": {
    "datalore": {
     "hide_input_from_viewers": false,
     "hide_output_from_viewers": false,
     "node_id": "LknYpYkJuqsJQo10Q8VIx6",
     "report_properties": {},
     "type": "MD"
    }
   },
   "source": [
    "Напишіть програму, що виводить речення: <i>\"Діаметр планети `Planet` дорівнює` Diametr`\"</i>, \n",
    "\n",
    "де `Planet` та `Diametr` вводить користувач"
   ]
  },
  {
   "cell_type": "code",
   "execution_count": 13,
   "metadata": {
    "datalore": {
     "hide_input_from_viewers": false,
     "hide_output_from_viewers": false,
     "node_id": "A56c2EvJQc98fQ9MVkEKPR",
     "report_properties": {},
     "type": "CODE"
    },
    "vscode": {
     "languageId": "python"
    }
   },
   "outputs": [
    {
     "name": "stdout",
     "output_type": "stream",
     "text": [
      "Planet Planet\n",
      "Diametr 1746\n",
      "Діаметр планети Planet дорівнює 1746\n"
     ]
    }
   ],
   "source": [
    "Planet = input(\"Planet\")\n",
    "Diametr = input(\"Diametr\")\n",
    "print( 'Діаметр планети', Planet, 'дорівнює', Diametr)"
   ]
  }
 ],
 "metadata": {
  "datalore": {
   "base_environment": "default",
   "computation_mode": "JUPYTER",
   "package_manager": "pip",
   "packages": [],
   "version": 1
  },
  "kernelspec": {
   "display_name": "Python",
   "language": "python",
   "name": "python"
  }
 },
 "nbformat": 4,
 "nbformat_minor": 4
}
