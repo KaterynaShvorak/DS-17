{
 "cells":[
  {
   "cell_type":"markdown",
   "source":[
    "___\n",
    "\n",
    "<a href='https:\/\/mainacademy.ua\/'> <img src='https:\/\/mainacademy.ua\/wp-content\/uploads\/2019\/03\/logo-main.png' alt = 'Хмм, щось з інтернетом'\/><\/a>\n",
    "___\n",
    "\n",
    "# Module 2: Basic Python"
   ],
   "attachments":{
    
   },
   "metadata":{
    "datalore":{
     "node_id":"XetEbEGyY6v3rvVU2Xlx9a",
     "type":"MD",
     "hide_input_from_viewers":false,
     "hide_output_from_viewers":false,
     "report_properties":{
      
     }
    }
   }
  },
  {
   "cell_type":"markdown",
   "source":[
    "## Lab work 2.1\n"
   ],
   "attachments":{
    
   },
   "metadata":{
    "datalore":{
     "node_id":"wmvrxEX6ciZLSY0ieyOCb6",
     "type":"MD",
     "hide_input_from_viewers":false,
     "hide_output_from_viewers":false,
     "report_properties":{
      
     }
    }
   }
  },
  {
   "cell_type":"markdown",
   "source":[
    "#### Мета: \n",
    "\n",
    "* навчитися працювати із основними типами та структурами даних в Python;\n",
    "* ознайомитися із базовими алгоритмами;"
   ],
   "attachments":{
    
   },
   "metadata":{
    "datalore":{
     "node_id":"CEL38a46ac1nKlKjoMcP33",
     "type":"MD",
     "hide_input_from_viewers":false,
     "hide_output_from_viewers":false,
     "report_properties":{
      
     }
    }
   }
  },
  {
   "cell_type":"markdown",
   "source":[
    "#### Завдання 1"
   ],
   "attachments":{
    
   },
   "metadata":{
    "datalore":{
     "node_id":"Pte5GUanEIl6mWNrPEtkSh",
     "type":"MD",
     "hide_input_from_viewers":false,
     "hide_output_from_viewers":false,
     "report_properties":{
      
     }
    }
   }
  },
  {
   "cell_type":"markdown",
   "source":[
    "Обчислити площу трикутника, коли відома сторона та проведена висота до неї"
   ],
   "attachments":{
    
   },
   "metadata":{
    "datalore":{
     "node_id":"5ruYqWFDfqgk3zS2hP0jt4",
     "type":"MD",
     "hide_input_from_viewers":false,
     "hide_output_from_viewers":false,
     "report_properties":{
      
     }
    }
   }
  },
  {
   "cell_type":"code",
   "source":[
    "a = int(input(\"Довжина сторони\"))\n",
    "h = int(input(\"Довжина висоти\"))\n",
    "area = (a*h)\/2\n",
    "print(\"Площа прямокутника: \", area)"
   ],
   "execution_count":1,
   "outputs":[
    {
     "name":"stdout",
     "text":[
      "Довжина сторони 5\n",
      "Довжина висоти 12\n",
      "Площа прямокутника:  30.0\n"
     ],
     "output_type":"stream"
    }
   ],
   "metadata":{
    "datalore":{
     "node_id":"fmRWfB5mEH0aFQaOfWUfF6",
     "type":"CODE",
     "hide_input_from_viewers":false,
     "hide_output_from_viewers":false,
     "report_properties":{
      
     }
    }
   }
  },
  {
   "cell_type":"markdown",
   "source":[
    "#### Завдання 2"
   ],
   "attachments":{
    
   },
   "metadata":{
    "datalore":{
     "node_id":"vhr6ocRfJK7lnP9Qa66HfA",
     "type":"MD",
     "hide_input_from_viewers":false,
     "hide_output_from_viewers":false,
     "report_properties":{
      
     }
    }
   }
  },
  {
   "cell_type":"markdown",
   "source":[
    "Дано трицифрове число. Виведіть окремо кожну цифру числа та суми цифр число\n",
    "\n",
    "Реалізуйте завдання двома способами (використовуючи стрічки та оператори `%`, `\/\/`)"
   ],
   "attachments":{
    
   },
   "metadata":{
    "datalore":{
     "node_id":"oXj66LczrHPo0JUYtknsUj",
     "type":"MD",
     "hide_input_from_viewers":false,
     "hide_output_from_viewers":false,
     "report_properties":{
      
     }
    }
   }
  },
  {
   "cell_type":"code",
   "source":[
    "N = input(\"Введіть трицифрове число\")\n",
    "print ('Перше число', N[0])\n",
    "print ('Друге число', N[1])\n",
    "print ('Третє число', N[2])\n",
    "a = int (N[0])\n",
    "b = int (N[1])\n",
    "c = int (N[2])\n",
    "print ('Сума цифр', a + b + c)"
   ],
   "execution_count":2,
   "outputs":[
    {
     "name":"stdout",
     "text":[
      "Введіть трицифрове число 159\n",
      "Перше число 1\n",
      "Друге число 5\n",
      "Третє число 9\n",
      "Сума цифр 15\n"
     ],
     "output_type":"stream"
    }
   ],
   "metadata":{
    "datalore":{
     "node_id":"f1gwff4mnY3y3gcqabnI1M",
     "type":"CODE",
     "hide_input_from_viewers":false,
     "hide_output_from_viewers":false,
     "report_properties":{
      
     }
    }
   }
  },
  {
   "cell_type":"code",
   "source":[
    "N = int(input(\"Введіть трицифрове число\"))\n",
    "first_digit = N\/\/100\n",
    "last_digit = N%10\n",
    "second_digit = N%100\/\/10\n",
    "print ('Перше число', first_digit)\n",
    "print ('Друге число', second_digit)\n",
    "print ('Третє число', last_digit)\n",
    "print ('Сума цифр', first_digit + second_digit + last_digit)"
   ],
   "execution_count":3,
   "outputs":[
    {
     "name":"stdout",
     "text":[
      "Введіть трицифрове число 159\n",
      "Перше число 1\n",
      "Друге число 5\n",
      "Третє число 9\n",
      "Сума цифр 15\n"
     ],
     "output_type":"stream"
    }
   ],
   "metadata":{
    "datalore":{
     "node_id":"u5akYTCSi05jAhmRCdS07F",
     "type":"CODE",
     "hide_input_from_viewers":false,
     "hide_output_from_viewers":false,
     "report_properties":{
      
     }
    }
   }
  },
  {
   "cell_type":"markdown",
   "source":[
    "#### Завдання 3"
   ],
   "attachments":{
    
   },
   "metadata":{
    "datalore":{
     "node_id":"g2do8y1nCwzsrRqHQ3ImyI",
     "type":"MD",
     "hide_input_from_viewers":false,
     "hide_output_from_viewers":false,
     "report_properties":{
      
     }
    }
   }
  },
  {
   "cell_type":"markdown",
   "source":[
    "Дано речення (стрічка). \n",
    "* Розбийте речення по словах і помістіть їх у список. \n",
    "* Виведіть кількість слів у речені.\n",
    "* Утворіть нове речення, що складається з першого та останнього слова із початкового речення."
   ],
   "attachments":{
    
   },
   "metadata":{
    "datalore":{
     "node_id":"imvDhOoKRXmUjzMhQAHSxP",
     "type":"MD",
     "hide_input_from_viewers":false,
     "hide_output_from_viewers":false,
     "report_properties":{
      
     }
    }
   }
  },
  {
   "cell_type":"code",
   "source":[
    "sentence = 'My favourite tutor in academy is Ihor'"
   ],
   "execution_count":5,
   "outputs":[
    
   ],
   "metadata":{
    "datalore":{
     "node_id":"hcVRjosig138ty31830KDw",
     "type":"CODE",
     "hide_input_from_viewers":false,
     "hide_output_from_viewers":false,
     "report_properties":{
      
     }
    }
   }
  },
  {
   "cell_type":"code",
   "source":[
    "list_s = sentence.split()\n",
    "print(list_s) "
   ],
   "execution_count":6,
   "outputs":[
    {
     "name":"stdout",
     "text":[
      "['My', 'favourite', 'tutor', 'in', 'academy', 'is', 'Ihor']\n"
     ],
     "output_type":"stream"
    }
   ],
   "metadata":{
    "datalore":{
     "node_id":"uXtzXoPNMaHqTgr7U25mBc",
     "type":"CODE",
     "hide_input_from_viewers":false,
     "hide_output_from_viewers":false,
     "report_properties":{
      
     }
    }
   }
  },
  {
   "cell_type":"code",
   "source":[
    "print (len(list_s))"
   ],
   "execution_count":7,
   "outputs":[
    {
     "name":"stdout",
     "text":[
      "7\n"
     ],
     "output_type":"stream"
    }
   ],
   "metadata":{
    "datalore":{
     "node_id":"mLP12jVNOHy506Z5aEMzUJ",
     "type":"CODE",
     "hide_input_from_viewers":false,
     "hide_output_from_viewers":false,
     "report_properties":{
      
     }
    }
   }
  },
  {
   "cell_type":"code",
   "source":[
    "a = list_s[0] + ' ' + list_s[-1]\n",
    "print (a)"
   ],
   "execution_count":8,
   "outputs":[
    {
     "name":"stdout",
     "text":[
      "My Ihor\n"
     ],
     "output_type":"stream"
    }
   ],
   "metadata":{
    "datalore":{
     "node_id":"UWSUGJVW66pxgcX92Lo3N8",
     "type":"CODE",
     "hide_input_from_viewers":false,
     "hide_output_from_viewers":false,
     "report_properties":{
      
     }
    }
   }
  },
  {
   "cell_type":"markdown",
   "source":[
    "#### Завдання 4"
   ],
   "attachments":{
    
   },
   "metadata":{
    "datalore":{
     "node_id":"msA2RghGhYYFxB35zwWm4r",
     "type":"MD",
     "hide_input_from_viewers":false,
     "hide_output_from_viewers":false,
     "report_properties":{
      
     }
    }
   }
  },
  {
   "cell_type":"markdown",
   "source":[
    "Перевірте, чи справджується формула: $$ sin^2x + cos^2x = 1$$\n",
    "\n",
    "Напишіть код, що реалізує цю формулу. Нагадую, що тригонометричні функції приймають аргументи в радіанній мірі"
   ],
   "attachments":{
    
   },
   "metadata":{
    "datalore":{
     "node_id":"XQfX4IvqlafYKCzaNyYSzQ",
     "type":"MD",
     "hide_input_from_viewers":false,
     "hide_output_from_viewers":false,
     "report_properties":{
      
     }
    }
   }
  },
  {
   "cell_type":"code",
   "source":[
    "import math\n",
    "x = int(input('Введіть x:'))\n",
    "y = math.radians(x)\n",
    "print((math.sin(y)**2) + (math.cos(y)**2) == 1)"
   ],
   "execution_count":10,
   "outputs":[
    {
     "name":"stdout",
     "text":[
      "Введіть x: 5\n",
      "True\n"
     ],
     "output_type":"stream"
    }
   ],
   "metadata":{
    "datalore":{
     "node_id":"OQ9NNNlEjZXfmphMfPePCR",
     "type":"CODE",
     "hide_input_from_viewers":false,
     "hide_output_from_viewers":false,
     "report_properties":{
      
     }
    }
   }
  },
  {
   "cell_type":"markdown",
   "source":[
    "#### Завдання 5"
   ],
   "attachments":{
    
   },
   "metadata":{
    "datalore":{
     "node_id":"My6SrHCC0B3EKMsixFfz0O",
     "type":"MD",
     "hide_input_from_viewers":false,
     "hide_output_from_viewers":false,
     "report_properties":{
      
     }
    }
   }
  },
  {
   "cell_type":"markdown",
   "source":[
    "Напишіть програму для обчислення коренів квадратного рівняння.\n",
    "\n",
    "Нагадую, що `n`-го степеня має `n` коренів. (Корені можуть бути комплексні)"
   ],
   "attachments":{
    
   },
   "metadata":{
    "datalore":{
     "node_id":"nRZiL5zyu71VJvZFon7sbL",
     "type":"MD",
     "hide_input_from_viewers":false,
     "hide_output_from_viewers":false,
     "report_properties":{
      
     }
    }
   }
  },
  {
   "cell_type":"code",
   "source":[
    "import cmath\n",
    "a = int(input(\"a = \"))\n",
    "b = int(input(\"b = \"))\n",
    "c = int(input(\"c = \"))\n",
    "D = b ** 2 - 4 * a * c\n",
    "if D > 0:                                              # шукаємо корені при додатному дискримінанті\n",
    "    x1 = (-b + math.sqrt(D)) \/ (2 * a)                 \n",
    "    x2 = (-b - math.sqrt(D)) \/ (2 * a)\n",
    "    print('x1 = %s \\nx2 = %s' % (x1, x2))\n",
    "elif D == 0:                                           # шукаємо корені, коли дискримінант дорівнює нулю\n",
    "    x = -b \/ (2 * a)\n",
    "    print('x = %s' % x)\n",
    "else:                                                  # якщо дискримінант від'ємний\n",
    "    x1 = (-b + cmath.sqrt(D)) \/ (2 * a)\n",
    "    x2 = (-b - cmath.sqrt(D)) \/ (2 * a)\n",
    "    print('x1 = %s \\nx2 = %s' % (x1, x2))"
   ],
   "execution_count":12,
   "outputs":[
    {
     "name":"stdout",
     "text":[
      "a =  5\n",
      "b =  6\n",
      "c =  7\n",
      "x1 = (-0.6+1.0198039027185568j) \n",
      "x2 = (-0.6-1.0198039027185568j)\n"
     ],
     "output_type":"stream"
    }
   ],
   "metadata":{
    "datalore":{
     "node_id":"wV8IOaQ6bMs2tuFkn2iG1z",
     "type":"CODE",
     "hide_input_from_viewers":false,
     "hide_output_from_viewers":false,
     "report_properties":{
      
     }
    }
   }
  },
  {
   "cell_type":"markdown",
   "source":[
    "#### Завдання 6"
   ],
   "attachments":{
    
   },
   "metadata":{
    "datalore":{
     "node_id":"mdY03vwflDOhPBgjVzFpMv",
     "type":"MD",
     "hide_input_from_viewers":false,
     "hide_output_from_viewers":false,
     "report_properties":{
      
     }
    }
   }
  },
  {
   "cell_type":"markdown",
   "source":[
    "Напишіть програму, що виводить речення: <i>\"Діаметр планети `Planet` дорівнює` Diametr`\"<\/i>, \n",
    "\n",
    "де `Planet` та `Diametr` вводить користувач"
   ],
   "attachments":{
    
   },
   "metadata":{
    "datalore":{
     "node_id":"LknYpYkJuqsJQo10Q8VIx6",
     "type":"MD",
     "hide_input_from_viewers":false,
     "hide_output_from_viewers":false,
     "report_properties":{
      
     }
    }
   }
  },
  {
   "cell_type":"code",
   "source":[
    "Planet = input(\"Planet\")\n",
    "Diametr = input(\"Diametr\")\n",
    "print( 'Діаметр планети', Planet, 'дорівнює', Diametr)"
   ],
   "execution_count":14,
   "outputs":[
    {
     "name":"stdout",
     "text":[
      "Planet Земля\n",
      "Diametr 12 742\n",
      "Діаметр планети Земля дорівнює 12 742\n"
     ],
     "output_type":"stream"
    }
   ],
   "metadata":{
    "datalore":{
     "node_id":"A56c2EvJQc98fQ9MVkEKPR",
     "type":"CODE",
     "hide_input_from_viewers":false,
     "hide_output_from_viewers":false,
     "report_properties":{
      
     }
    }
   }
  }
 ],
 "metadata":{
  "kernelspec":{
   "display_name":"Python",
   "language":"python",
   "name":"python"
  },
  "datalore":{
   "version":1,
   "computation_mode":"JUPYTER",
   "package_manager":"pip",
   "base_environment":"default",
   "packages":[
    
   ]
  }
 },
 "nbformat":4,
 "nbformat_minor":4
}