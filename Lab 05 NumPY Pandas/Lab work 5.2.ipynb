{
 "cells":[
  {
   "cell_type":"markdown",
   "source":[
    "___\n",
    "\n",
    "<a href='https:\/\/mainacademy.ua\/'> <img src='https:\/\/mainacademy.ua\/wp-content\/uploads\/2019\/03\/logo-main.png' alt = 'Хмм, щось з інтернетом'\/><\/a>\n",
    "___\n",
    "\n",
    "# Module 5: Data analysis with NumPy and Pandas"
   ],
   "attachments":{
    
   },
   "metadata":{
    "datalore":{
     "node_id":"diFeGeuhAwuY7VAA7bn04D",
     "type":"MD",
     "hide_input_from_viewers":false,
     "hide_output_from_viewers":false,
     "report_properties":{
      "rowId":"h11qKBohMu07z9eV5AqzsT"
     }
    }
   }
  },
  {
   "cell_type":"markdown",
   "source":[
    "## Lab work 5.2\n"
   ],
   "attachments":{
    
   },
   "metadata":{
    "datalore":{
     "node_id":"h3FmA07ulnWl5NipsgnR94",
     "type":"MD",
     "hide_input_from_viewers":false,
     "hide_output_from_viewers":false,
     "report_properties":{
      "rowId":"xMS1dTfiSMLeop1Zqdd2Wg"
     }
    }
   }
  },
  {
   "cell_type":"markdown",
   "source":[
    "#### Мета: \n",
    "\n",
    "* навчитися працювати із бібліотекою Pandas в Python."
   ],
   "attachments":{
    
   },
   "metadata":{
    "datalore":{
     "node_id":"j8iCT0LwLlMbETVkZDDVoy",
     "type":"MD",
     "hide_input_from_viewers":false,
     "hide_output_from_viewers":false,
     "report_properties":{
      "rowId":"5n0y9ehlvO1lCV3DlPqiYq"
     }
    }
   }
  },
  {
   "cell_type":"markdown",
   "source":[
    "### Завдання:"
   ],
   "attachments":{
    
   },
   "metadata":{
    "datalore":{
     "node_id":"vAFowdsx0M4nwqvVNiGvQA",
     "type":"MD",
     "hide_input_from_viewers":false,
     "hide_output_from_viewers":false,
     "report_properties":{
      "rowId":"8Cmfu8LSi3BjUIpBqY03Cw"
     }
    }
   }
  },
  {
   "cell_type":"code",
   "source":[
    "import pandas as pd"
   ],
   "execution_count":1,
   "outputs":[
    
   ],
   "metadata":{
    "datalore":{
     "node_id":"i8rEAOmfKY6U59mispf8W4",
     "type":"CODE",
     "hide_input_from_viewers":false,
     "hide_output_from_viewers":false,
     "report_properties":{
      "rowId":"mebJEDv2r1vS9IMtJJ7GrO"
     }
    }
   }
  },
  {
   "cell_type":"markdown",
   "source":[
    "Вивести версію та конфігурацію бібліотеки:"
   ],
   "attachments":{
    
   },
   "metadata":{
    "datalore":{
     "node_id":"LDvkw92sZK8yewMSceez8F",
     "type":"MD",
     "hide_input_from_viewers":false,
     "hide_output_from_viewers":false,
     "report_properties":{
      "rowId":"KOx1pwSwe2dVGjRgHK4z7q"
     }
    }
   }
  },
  {
   "cell_type":"code",
   "source":[
    "print(\"Версія Pandas:\", pd.__version__)\n",
    "print(\"Конфігурація Pandas:\")\n",
    "print(pd.show_versions())"
   ],
   "execution_count":2,
   "outputs":[
    {
     "name":"stdout",
     "text":[
      "Версія Pandas: 1.3.5\n",
      "Конфігурація Pandas:\n",
      "\n",
      "INSTALLED VERSIONS\n",
      "------------------\n",
      "commit           : 66e3805b8cabe977f40c05259cc3fcf7ead5687d\n",
      "python           : 3.8.12.final.0\n",
      "python-bits      : 64\n",
      "OS               : Linux\n",
      "OS-release       : 5.15.0-1017-aws\n",
      "Version          : #21~20.04.1-Ubuntu SMP Fri Aug 5 11:44:14 UTC 2022\n",
      "machine          : x86_64\n",
      "processor        : x86_64\n",
      "byteorder        : little\n",
      "LC_ALL           : en_US.UTF-8\n",
      "LANG             : en_US.UTF-8\n",
      "LOCALE           : en_US.UTF-8\n",
      "\n",
      "pandas           : 1.3.5\n",
      "numpy            : 1.23.5\n",
      "pytz             : 2022.7.1\n",
      "dateutil         : 2.8.2\n",
      "pip              : 23.0.1\n",
      "setuptools       : 67.6.0\n",
      "Cython           : None\n",
      "pytest           : None\n",
      "hypothesis       : None\n",
      "sphinx           : 6.1.3\n",
      "blosc            : None\n",
      "feather          : None\n",
      "xlsxwriter       : None\n",
      "lxml.etree       : 4.9.1\n",
      "html5lib         : None\n",
      "pymysql          : 1.0.2\n",
      "psycopg2         : 2.9.2 (dt dec pq3 ext lo64)\n",
      "jinja2           : 3.1.2\n",
      "IPython          : 7.31.1\n",
      "pandas_datareader: 0.10.0\n",
      "bs4              : 4.11.2\n",
      "bottleneck       : None\n",
      "fsspec           : None\n",
      "fastparquet      : None\n",
      "gcsfs            : None\n",
      "matplotlib       : 3.5.1\n",
      "numexpr          : None\n",
      "odfpy            : None\n",
      "openpyxl         : None\n",
      "pandas_gbq       : None\n",
      "pyarrow          : None\n",
      "pyxlsb           : None\n",
      "s3fs             : None\n",
      "scipy            : 1.10.1\n",
      "sqlalchemy       : 1.4.26\n",
      "tables           : None\n",
      "tabulate         : None\n",
      "xarray           : None\n",
      "xlrd             : 2.0.1\n",
      "xlwt             : None\n",
      "numba            : None\n",
      "None\n"
     ],
     "output_type":"stream"
    },
    {
     "name":"stderr",
     "text":[
      "\/opt\/python\/envs\/default\/lib\/python3.8\/site-packages\/_distutils_hack\/__init__.py:33: UserWarning: Setuptools is replacing distutils.\n",
      "  warnings.warn(\"Setuptools is replacing distutils.\")\n"
     ],
     "output_type":"stream"
    }
   ],
   "metadata":{
    "datalore":{
     "node_id":"mcYpU6VqGAYjILCob5jIh8",
     "type":"CODE",
     "hide_input_from_viewers":false,
     "hide_output_from_viewers":false,
     "report_properties":{
      "rowId":"bNjLTEGd4mPA3l9AMCDuNB"
     }
    }
   }
  },
  {
   "cell_type":"code",
   "source":[
    "df = pd.read_csv('Ecommerce Purchases.csv')"
   ],
   "execution_count":3,
   "outputs":[
    
   ],
   "metadata":{
    "datalore":{
     "node_id":"krocxCK5R3ucEejYBbTN6P",
     "type":"CODE",
     "hide_input_from_viewers":false,
     "hide_output_from_viewers":false,
     "report_properties":{
      "rowId":"mECUrSmmyYATvyqUieYGjN"
     }
    }
   }
  },
  {
   "cell_type":"code",
   "source":[
    "df.head()"
   ],
   "execution_count":4,
   "outputs":[
    {
     "data":{
      "text\/html":[
       "<div>\n",
       "<style scoped>\n",
       "    .dataframe tbody tr th:only-of-type {\n",
       "        vertical-align: middle;\n",
       "    }\n",
       "\n",
       "    .dataframe tbody tr th {\n",
       "        vertical-align: top;\n",
       "    }\n",
       "\n",
       "    .dataframe thead th {\n",
       "        text-align: right;\n",
       "    }\n",
       "<\/style>\n",
       "<table border=\"1\" class=\"dataframe\">\n",
       "  <thead>\n",
       "    <tr style=\"text-align: right;\">\n",
       "      <th><\/th>\n",
       "      <th>Address<\/th>\n",
       "      <th>Lot<\/th>\n",
       "      <th>AM or PM<\/th>\n",
       "      <th>Browser Info<\/th>\n",
       "      <th>Company<\/th>\n",
       "      <th>Credit Card<\/th>\n",
       "      <th>CC Exp Date<\/th>\n",
       "      <th>CC Security Code<\/th>\n",
       "      <th>CC Provider<\/th>\n",
       "      <th>Email<\/th>\n",
       "      <th>Job<\/th>\n",
       "      <th>IP Address<\/th>\n",
       "      <th>Language<\/th>\n",
       "      <th>Purchase Price<\/th>\n",
       "    <\/tr>\n",
       "  <\/thead>\n",
       "  <tbody>\n",
       "    <tr>\n",
       "      <th>0<\/th>\n",
       "      <td>16629 Pace Camp Apt. 448\\nAlexisborough, NE 77...<\/td>\n",
       "      <td>46 in<\/td>\n",
       "      <td>PM<\/td>\n",
       "      <td>Opera\/9.56.(X11; Linux x86_64; sl-SI) Presto\/2...<\/td>\n",
       "      <td>Martinez-Herman<\/td>\n",
       "      <td>6011929061123406<\/td>\n",
       "      <td>02\/20<\/td>\n",
       "      <td>900<\/td>\n",
       "      <td>JCB 16 digit<\/td>\n",
       "      <td>pdunlap@yahoo.com<\/td>\n",
       "      <td>Scientist, product\/process development<\/td>\n",
       "      <td>149.146.147.205<\/td>\n",
       "      <td>el<\/td>\n",
       "      <td>98.14<\/td>\n",
       "    <\/tr>\n",
       "    <tr>\n",
       "      <th>1<\/th>\n",
       "      <td>9374 Jasmine Spurs Suite 508\\nSouth John, TN 8...<\/td>\n",
       "      <td>28 rn<\/td>\n",
       "      <td>PM<\/td>\n",
       "      <td>Opera\/8.93.(Windows 98; Win 9x 4.90; en-US) Pr...<\/td>\n",
       "      <td>Fletcher, Richards and Whitaker<\/td>\n",
       "      <td>3337758169645356<\/td>\n",
       "      <td>11\/18<\/td>\n",
       "      <td>561<\/td>\n",
       "      <td>Mastercard<\/td>\n",
       "      <td>anthony41@reed.com<\/td>\n",
       "      <td>Drilling engineer<\/td>\n",
       "      <td>15.160.41.51<\/td>\n",
       "      <td>fr<\/td>\n",
       "      <td>70.73<\/td>\n",
       "    <\/tr>\n",
       "    <tr>\n",
       "      <th>2<\/th>\n",
       "      <td>Unit 0065 Box 5052\\nDPO AP 27450<\/td>\n",
       "      <td>94 vE<\/td>\n",
       "      <td>PM<\/td>\n",
       "      <td>Mozilla\/5.0 (compatible; MSIE 9.0; Windows NT ...<\/td>\n",
       "      <td>Simpson, Williams and Pham<\/td>\n",
       "      <td>675957666125<\/td>\n",
       "      <td>08\/19<\/td>\n",
       "      <td>699<\/td>\n",
       "      <td>JCB 16 digit<\/td>\n",
       "      <td>amymiller@morales-harrison.com<\/td>\n",
       "      <td>Customer service manager<\/td>\n",
       "      <td>132.207.160.22<\/td>\n",
       "      <td>de<\/td>\n",
       "      <td>0.95<\/td>\n",
       "    <\/tr>\n",
       "    <tr>\n",
       "      <th>3<\/th>\n",
       "      <td>7780 Julia Fords\\nNew Stacy, WA 45798<\/td>\n",
       "      <td>36 vm<\/td>\n",
       "      <td>PM<\/td>\n",
       "      <td>Mozilla\/5.0 (Macintosh; Intel Mac OS X 10_8_0 ...<\/td>\n",
       "      <td>Williams, Marshall and Buchanan<\/td>\n",
       "      <td>6011578504430710<\/td>\n",
       "      <td>02\/24<\/td>\n",
       "      <td>384<\/td>\n",
       "      <td>Discover<\/td>\n",
       "      <td>brent16@olson-robinson.info<\/td>\n",
       "      <td>Drilling engineer<\/td>\n",
       "      <td>30.250.74.19<\/td>\n",
       "      <td>es<\/td>\n",
       "      <td>78.04<\/td>\n",
       "    <\/tr>\n",
       "    <tr>\n",
       "      <th>4<\/th>\n",
       "      <td>23012 Munoz Drive Suite 337\\nNew Cynthia, TX 5...<\/td>\n",
       "      <td>20 IE<\/td>\n",
       "      <td>AM<\/td>\n",
       "      <td>Opera\/9.58.(X11; Linux x86_64; it-IT) Presto\/2...<\/td>\n",
       "      <td>Brown, Watson and Andrews<\/td>\n",
       "      <td>6011456623207998<\/td>\n",
       "      <td>10\/25<\/td>\n",
       "      <td>678<\/td>\n",
       "      <td>Diners Club \/ Carte Blanche<\/td>\n",
       "      <td>christopherwright@gmail.com<\/td>\n",
       "      <td>Fine artist<\/td>\n",
       "      <td>24.140.33.94<\/td>\n",
       "      <td>es<\/td>\n",
       "      <td>77.82<\/td>\n",
       "    <\/tr>\n",
       "  <\/tbody>\n",
       "<\/table>\n",
       "<\/div>"
      ]
     },
     "metadata":{
      
     },
     "output_type":"display_data"
    }
   ],
   "metadata":{
    "datalore":{
     "node_id":"LvxNFTJkTNxw3b9csoopRu",
     "type":"CODE",
     "hide_input_from_viewers":true,
     "hide_output_from_viewers":true
    }
   }
  },
  {
   "cell_type":"markdown",
   "source":[
    "Скільки рядків і стовпців в наборі даних:"
   ],
   "attachments":{
    
   },
   "metadata":{
    "datalore":{
     "node_id":"qyHNwetlG9DwddJgBOZGLH",
     "type":"MD",
     "hide_input_from_viewers":false,
     "hide_output_from_viewers":false,
     "report_properties":{
      "rowId":"3LquNnNbClLj7Pztz6fzD2"
     }
    }
   }
  },
  {
   "cell_type":"code",
   "source":[
    "print(\"Кількість рядків та стовпців в наборі даних:\", df.shape)"
   ],
   "execution_count":5,
   "outputs":[
    {
     "name":"stdout",
     "text":[
      "Кількість рядків та стовпців в наборі даних: (10000, 14)\n"
     ],
     "output_type":"stream"
    }
   ],
   "metadata":{
    "datalore":{
     "node_id":"ErzCucF6KAgJ9pIYzW2Ocm",
     "type":"CODE",
     "hide_input_from_viewers":false,
     "hide_output_from_viewers":false,
     "report_properties":{
      "rowId":"1cFRSWvk8YVDD4HgVesJr7"
     }
    }
   }
  },
  {
   "cell_type":"markdown",
   "source":[
    "Перевірити, чи в наборі даних містяться порожні значення:"
   ],
   "attachments":{
    
   },
   "metadata":{
    "datalore":{
     "node_id":"1Q2CXsaxQcJ5ZVN5E1Nv0K",
     "type":"MD",
     "hide_input_from_viewers":false,
     "hide_output_from_viewers":false,
     "report_properties":{
      "rowId":"cW95us0BQ68zreNzMrLzoA"
     }
    }
   }
  },
  {
   "cell_type":"code",
   "source":[
    "if df.isnull().any().any():\n",
    "    print(\"У наборі даних є порожні значення\")\n",
    "else:\n",
    "    print(\"У наборі даних немає порожніх значень\")"
   ],
   "execution_count":6,
   "outputs":[
    {
     "name":"stdout",
     "text":[
      "У наборі даних немає порожніх значень\n"
     ],
     "output_type":"stream"
    }
   ],
   "metadata":{
    "datalore":{
     "node_id":"ohFOE4OZKafm4Ey43s2AO0",
     "type":"CODE",
     "hide_input_from_viewers":false,
     "hide_output_from_viewers":false,
     "report_properties":{
      "rowId":"8Ua8Zzm8ZUdz9En7yCBKil"
     }
    }
   }
  },
  {
   "cell_type":"markdown",
   "source":[
    "Яка середня ціна закупки (Purchase Price):"
   ],
   "attachments":{
    
   },
   "metadata":{
    "datalore":{
     "node_id":"n8iOdje3Xe30rO2JvXj3VR",
     "type":"MD",
     "hide_input_from_viewers":false,
     "hide_output_from_viewers":false,
     "report_properties":{
      "rowId":"DoPrNnlfHphuuzexEo9rEe"
     }
    }
   }
  },
  {
   "cell_type":"code",
   "source":[
    "df['Purchase Price'].mean()"
   ],
   "execution_count":7,
   "outputs":[
    {
     "data":{
      "text\/plain":[
       "50.347302"
      ]
     },
     "metadata":{
      
     },
     "output_type":"display_data"
    }
   ],
   "metadata":{
    "datalore":{
     "node_id":"1Sj7veHlNnlwrNaFM99vIr",
     "type":"CODE",
     "hide_input_from_viewers":false,
     "hide_output_from_viewers":false,
     "report_properties":{
      "rowId":"693DJL1W4eQr1pWJm2IjYh"
     }
    }
   }
  },
  {
   "cell_type":"markdown",
   "source":[
    "Скільки людей користуються англійською мовою \"en\" на веб-сайті:"
   ],
   "attachments":{
    
   },
   "metadata":{
    "datalore":{
     "node_id":"JeOKC4ogWdHSedg62PRz9a",
     "type":"MD",
     "hide_input_from_viewers":false,
     "hide_output_from_viewers":false,
     "report_properties":{
      "rowId":"kD3KF1qjlOEoSAFkftYbJW"
     }
    }
   }
  },
  {
   "cell_type":"code",
   "source":[
    "df['Language'].value_counts()['en']"
   ],
   "execution_count":8,
   "outputs":[
    {
     "data":{
      "text\/plain":[
       "1098"
      ]
     },
     "metadata":{
      
     },
     "output_type":"display_data"
    }
   ],
   "metadata":{
    "datalore":{
     "node_id":"6qXrkSMXFQcRO0YqGZ65nR",
     "type":"CODE",
     "hide_input_from_viewers":true,
     "hide_output_from_viewers":true
    }
   }
  },
  {
   "cell_type":"markdown",
   "source":[
    "Скільки людей має посаду «Lawyer»?"
   ],
   "attachments":{
    
   },
   "metadata":{
    "datalore":{
     "node_id":"jk1PEMR7rZP0cvWmueMN4y",
     "type":"MD",
     "hide_input_from_viewers":false,
     "hide_output_from_viewers":false,
     "report_properties":{
      "rowId":"hjkTtr3flw8AKrxRTox5I8"
     }
    }
   }
  },
  {
   "cell_type":"code",
   "source":[
    "df['Job'].value_counts()['Lawyer']"
   ],
   "execution_count":9,
   "outputs":[
    {
     "data":{
      "text\/plain":[
       "30"
      ]
     },
     "metadata":{
      
     },
     "output_type":"display_data"
    }
   ],
   "metadata":{
    "datalore":{
     "node_id":"Gx1VJeOYdqKK1QwybCmbL9",
     "type":"CODE",
     "hide_input_from_viewers":true,
     "hide_output_from_viewers":true
    }
   }
  },
  {
   "cell_type":"markdown",
   "source":[
    "Скільки людей зробило покупку вранці та скільки людей зробило покупку після обіду?"
   ],
   "attachments":{
    
   },
   "metadata":{
    "datalore":{
     "node_id":"Fno9hqryXojVkrnXNfxRSu",
     "type":"MD",
     "hide_input_from_viewers":false,
     "hide_output_from_viewers":false,
     "report_properties":{
      "rowId":"77t4TkyzN16uFwfOKRg5iz"
     }
    }
   }
  },
  {
   "cell_type":"code",
   "source":[
    "df['AM or PM'].value_counts()['AM']"
   ],
   "execution_count":10,
   "outputs":[
    {
     "data":{
      "text\/plain":[
       "4932"
      ]
     },
     "metadata":{
      
     },
     "output_type":"display_data"
    }
   ],
   "metadata":{
    "datalore":{
     "node_id":"oUkOyBR4oUwk4rlw1bRt3v",
     "type":"CODE",
     "hide_input_from_viewers":true,
     "hide_output_from_viewers":true
    }
   }
  },
  {
   "cell_type":"code",
   "source":[
    "df['AM or PM'].value_counts()['PM']"
   ],
   "execution_count":11,
   "outputs":[
    {
     "data":{
      "text\/plain":[
       "5068"
      ]
     },
     "metadata":{
      
     },
     "output_type":"display_data"
    }
   ],
   "metadata":{
    "datalore":{
     "node_id":"N5l8eCH5XMOVCp7G28wy7R",
     "type":"CODE",
     "hide_input_from_viewers":true,
     "hide_output_from_viewers":true
    }
   }
  },
  {
   "cell_type":"markdown",
   "source":[
    "Які 5 найпоширеніших назв вакансій?"
   ],
   "attachments":{
    
   },
   "metadata":{
    "datalore":{
     "node_id":"ZwhzzjH0ZuQJvNZrul08RT",
     "type":"MD",
     "hide_input_from_viewers":false,
     "hide_output_from_viewers":false,
     "report_properties":{
      "rowId":"0iUFPzLMs1HjOwkvHlBVWx"
     }
    }
   }
  },
  {
   "cell_type":"code",
   "source":[
    "df['Job'].value_counts()[:5]"
   ],
   "execution_count":12,
   "outputs":[
    {
     "data":{
      "text\/html":[
       "<pre>Interior and spatial designer    31\n",
       "Lawyer                           30\n",
       "Social researcher                28\n",
       "Purchasing manager               27\n",
       "Designer, jewellery              27\n",
       "Name: Job, dtype: int64<\/pre>"
      ]
     },
     "metadata":{
      
     },
     "output_type":"display_data"
    }
   ],
   "metadata":{
    "datalore":{
     "node_id":"78XT1GwhU3qIpzfdmDPONM",
     "type":"CODE",
     "hide_input_from_viewers":true,
     "hide_output_from_viewers":true
    }
   }
  },
  {
   "cell_type":"markdown",
   "source":[
    "Хтось здійснив покупку, яка надійшла від Lot: \"90 Wt\", та якою була ціна придбання для цієї транзакції?"
   ],
   "attachments":{
    
   },
   "metadata":{
    "datalore":{
     "node_id":"1ah29P3U5207hWWgcMwUx6",
     "type":"MD",
     "hide_input_from_viewers":false,
     "hide_output_from_viewers":false,
     "report_properties":{
      "rowId":"9dYYXPofUqFo0uWALxKK9J"
     }
    }
   }
  },
  {
   "cell_type":"code",
   "source":[
    "df.loc[(df['Lot'].str.contains('90 Wt', case=False)), ['Company', 'Purchase Price', 'Lot']]"
   ],
   "execution_count":13,
   "outputs":[
    {
     "data":{
      "text\/html":[
       "<div>\n",
       "<style scoped>\n",
       "    .dataframe tbody tr th:only-of-type {\n",
       "        vertical-align: middle;\n",
       "    }\n",
       "\n",
       "    .dataframe tbody tr th {\n",
       "        vertical-align: top;\n",
       "    }\n",
       "\n",
       "    .dataframe thead th {\n",
       "        text-align: right;\n",
       "    }\n",
       "<\/style>\n",
       "<table border=\"1\" class=\"dataframe\">\n",
       "  <thead>\n",
       "    <tr style=\"text-align: right;\">\n",
       "      <th><\/th>\n",
       "      <th>Company<\/th>\n",
       "      <th>Purchase Price<\/th>\n",
       "      <th>Lot<\/th>\n",
       "    <\/tr>\n",
       "  <\/thead>\n",
       "  <tbody>\n",
       "    <tr>\n",
       "      <th>513<\/th>\n",
       "      <td>Bright PLC<\/td>\n",
       "      <td>75.1<\/td>\n",
       "      <td>90 WT<\/td>\n",
       "    <\/tr>\n",
       "  <\/tbody>\n",
       "<\/table>\n",
       "<\/div>"
      ]
     },
     "metadata":{
      
     },
     "output_type":"display_data"
    }
   ],
   "metadata":{
    "datalore":{
     "node_id":"CRCo2ytUyLUQ9ygj1SEWyG",
     "type":"CODE",
     "hide_input_from_viewers":true,
     "hide_output_from_viewers":true
    }
   }
  },
  {
   "cell_type":"markdown",
   "source":[
    "Яка електронна адреса особи з таким номером кредитної картки: 4926535242672853 ?"
   ],
   "attachments":{
    
   },
   "metadata":{
    "datalore":{
     "node_id":"Hdacyf75NnkBOEdVpmPAYa",
     "type":"MD",
     "hide_input_from_viewers":false,
     "hide_output_from_viewers":false,
     "report_properties":{
      "rowId":"uJTeQx3KyeqZ9EzDFwjqd5"
     }
    }
   }
  },
  {
   "cell_type":"code",
   "source":[
    "df.loc[df['Credit Card'] == 4926535242672853, ['Credit Card', 'Email']]"
   ],
   "execution_count":14,
   "outputs":[
    {
     "data":{
      "text\/html":[
       "<div>\n",
       "<style scoped>\n",
       "    .dataframe tbody tr th:only-of-type {\n",
       "        vertical-align: middle;\n",
       "    }\n",
       "\n",
       "    .dataframe tbody tr th {\n",
       "        vertical-align: top;\n",
       "    }\n",
       "\n",
       "    .dataframe thead th {\n",
       "        text-align: right;\n",
       "    }\n",
       "<\/style>\n",
       "<table border=\"1\" class=\"dataframe\">\n",
       "  <thead>\n",
       "    <tr style=\"text-align: right;\">\n",
       "      <th><\/th>\n",
       "      <th>Credit Card<\/th>\n",
       "      <th>Email<\/th>\n",
       "    <\/tr>\n",
       "  <\/thead>\n",
       "  <tbody>\n",
       "    <tr>\n",
       "      <th>1234<\/th>\n",
       "      <td>4926535242672853<\/td>\n",
       "      <td>bondellen@williams-garza.com<\/td>\n",
       "    <\/tr>\n",
       "  <\/tbody>\n",
       "<\/table>\n",
       "<\/div>"
      ]
     },
     "metadata":{
      
     },
     "output_type":"display_data"
    }
   ],
   "metadata":{
    "datalore":{
     "node_id":"lCPtcC9wyU9kogBwkrWXBN",
     "type":"CODE",
     "hide_input_from_viewers":true,
     "hide_output_from_viewers":true
    }
   }
  },
  {
   "cell_type":"markdown",
   "source":[
    "Скільки людей використовує American Express  і здійснили покупку на суму понад 100 доларів?"
   ],
   "attachments":{
    
   },
   "metadata":{
    "datalore":{
     "node_id":"BZ5xNVLx2iwbbnGypnPa21",
     "type":"MD",
     "hide_input_from_viewers":false,
     "hide_output_from_viewers":false,
     "report_properties":{
      "rowId":"loTvMvkTaaDfQmMYKeOCsm"
     }
    }
   }
  },
  {
   "cell_type":"code",
   "source":[
    "num = df.loc[(df['CC Provider'] == 'American Express') & (df['Purchase Price'] > 100.0), ['Company', 'CC Provider', 'Purchase Price']]\n",
    "num"
   ],
   "execution_count":15,
   "outputs":[
    {
     "data":{
      "text\/html":[
       "<div>\n",
       "<style scoped>\n",
       "    .dataframe tbody tr th:only-of-type {\n",
       "        vertical-align: middle;\n",
       "    }\n",
       "\n",
       "    .dataframe tbody tr th {\n",
       "        vertical-align: top;\n",
       "    }\n",
       "\n",
       "    .dataframe thead th {\n",
       "        text-align: right;\n",
       "    }\n",
       "<\/style>\n",
       "<table border=\"1\" class=\"dataframe\">\n",
       "  <thead>\n",
       "    <tr style=\"text-align: right;\">\n",
       "      <th><\/th>\n",
       "      <th>Company<\/th>\n",
       "      <th>CC Provider<\/th>\n",
       "      <th>Purchase Price<\/th>\n",
       "    <\/tr>\n",
       "  <\/thead>\n",
       "  <tbody>\n",
       "  <\/tbody>\n",
       "<\/table>\n",
       "<\/div>"
      ]
     },
     "metadata":{
      
     },
     "output_type":"display_data"
    }
   ],
   "metadata":{
    "datalore":{
     "node_id":"RUOLfpQCZrLtESzSkAFzSh",
     "type":"CODE",
     "hide_input_from_viewers":true,
     "hide_output_from_viewers":true
    }
   }
  },
  {
   "cell_type":"code",
   "source":[
    "num_people = len(num['Company'].value_counts())\n",
    "num_people"
   ],
   "execution_count":16,
   "outputs":[
    {
     "data":{
      "text\/plain":[
       "0"
      ]
     },
     "metadata":{
      
     },
     "output_type":"display_data"
    }
   ],
   "metadata":{
    "datalore":{
     "node_id":"6QeJwZDeGyMqlFlhGvko6z",
     "type":"CODE",
     "hide_input_from_viewers":true,
     "hide_output_from_viewers":true
    }
   }
  },
  {
   "cell_type":"markdown",
   "source":[
    "Скільки людей мають кредитну картку, термін дії якої закінчується в 2025 році?"
   ],
   "attachments":{
    
   },
   "metadata":{
    "datalore":{
     "node_id":"J1ISAe3jkJfnobvbYKH4XP",
     "type":"MD",
     "hide_input_from_viewers":false,
     "hide_output_from_viewers":false,
     "report_properties":{
      "rowId":"uEAB0KGpKbUc4sjvRxw4e0"
     }
    }
   }
  },
  {
   "cell_type":"code",
   "source":[
    "df[df['CC Exp Date'].str.contains('\/25')]"
   ],
   "execution_count":17,
   "outputs":[
    {
     "data":{
      "text\/html":[
       "<div>\n",
       "<style scoped>\n",
       "    .dataframe tbody tr th:only-of-type {\n",
       "        vertical-align: middle;\n",
       "    }\n",
       "\n",
       "    .dataframe tbody tr th {\n",
       "        vertical-align: top;\n",
       "    }\n",
       "\n",
       "    .dataframe thead th {\n",
       "        text-align: right;\n",
       "    }\n",
       "<\/style>\n",
       "<table border=\"1\" class=\"dataframe\">\n",
       "  <thead>\n",
       "    <tr style=\"text-align: right;\">\n",
       "      <th><\/th>\n",
       "      <th>Address<\/th>\n",
       "      <th>Lot<\/th>\n",
       "      <th>AM or PM<\/th>\n",
       "      <th>Browser Info<\/th>\n",
       "      <th>Company<\/th>\n",
       "      <th>Credit Card<\/th>\n",
       "      <th>CC Exp Date<\/th>\n",
       "      <th>CC Security Code<\/th>\n",
       "      <th>CC Provider<\/th>\n",
       "      <th>Email<\/th>\n",
       "      <th>Job<\/th>\n",
       "      <th>IP Address<\/th>\n",
       "      <th>Language<\/th>\n",
       "      <th>Purchase Price<\/th>\n",
       "    <\/tr>\n",
       "  <\/thead>\n",
       "  <tbody>\n",
       "    <tr>\n",
       "      <th>4<\/th>\n",
       "      <td>23012 Munoz Drive Suite 337\\nNew Cynthia, TX 5...<\/td>\n",
       "      <td>20 IE<\/td>\n",
       "      <td>AM<\/td>\n",
       "      <td>Opera\/9.58.(X11; Linux x86_64; it-IT) Presto\/2...<\/td>\n",
       "      <td>Brown, Watson and Andrews<\/td>\n",
       "      <td>6011456623207998<\/td>\n",
       "      <td>10\/25<\/td>\n",
       "      <td>678<\/td>\n",
       "      <td>Diners Club \/ Carte Blanche<\/td>\n",
       "      <td>christopherwright@gmail.com<\/td>\n",
       "      <td>Fine artist<\/td>\n",
       "      <td>24.140.33.94<\/td>\n",
       "      <td>es<\/td>\n",
       "      <td>77.82<\/td>\n",
       "    <\/tr>\n",
       "    <tr>\n",
       "      <th>5<\/th>\n",
       "      <td>7502 Powell Mission Apt. 768\\nTravisland, VA 3...<\/td>\n",
       "      <td>21 XT<\/td>\n",
       "      <td>PM<\/td>\n",
       "      <td>Mozilla\/5.0 (Macintosh; U; PPC Mac OS X 10_8_5...<\/td>\n",
       "      <td>Silva-Anderson<\/td>\n",
       "      <td>30246185196287<\/td>\n",
       "      <td>07\/25<\/td>\n",
       "      <td>7169<\/td>\n",
       "      <td>Discover<\/td>\n",
       "      <td>ynguyen@gmail.com<\/td>\n",
       "      <td>Fish farm manager<\/td>\n",
       "      <td>55.96.152.147<\/td>\n",
       "      <td>ru<\/td>\n",
       "      <td>25.15<\/td>\n",
       "    <\/tr>\n",
       "    <tr>\n",
       "      <th>7<\/th>\n",
       "      <td>260 Rachel Plains Suite 366\\nCastroberg, WV 24...<\/td>\n",
       "      <td>96 pG<\/td>\n",
       "      <td>PM<\/td>\n",
       "      <td>Mozilla\/5.0 (X11; Linux i686) AppleWebKit\/5350...<\/td>\n",
       "      <td>Marshall-Collins<\/td>\n",
       "      <td>561252141909<\/td>\n",
       "      <td>06\/25<\/td>\n",
       "      <td>256<\/td>\n",
       "      <td>VISA 13 digit<\/td>\n",
       "      <td>phillip48@parks.info<\/td>\n",
       "      <td>Event organiser<\/td>\n",
       "      <td>224.247.97.150<\/td>\n",
       "      <td>pt<\/td>\n",
       "      <td>44.25<\/td>\n",
       "    <\/tr>\n",
       "    <tr>\n",
       "      <th>13<\/th>\n",
       "      <td>118 Melton Via Suite 681\\nAlexanderbury, FL 32104<\/td>\n",
       "      <td>36 bu<\/td>\n",
       "      <td>PM<\/td>\n",
       "      <td>Mozilla\/5.0 (Macintosh; U; Intel Mac OS X 10_8...<\/td>\n",
       "      <td>Keller PLC<\/td>\n",
       "      <td>4603635169938574<\/td>\n",
       "      <td>01\/25<\/td>\n",
       "      <td>557<\/td>\n",
       "      <td>VISA 16 digit<\/td>\n",
       "      <td>caitlin57@yahoo.com<\/td>\n",
       "      <td>Accountant, chartered public finance<\/td>\n",
       "      <td>84.212.92.11<\/td>\n",
       "      <td>it<\/td>\n",
       "      <td>8.93<\/td>\n",
       "    <\/tr>\n",
       "    <tr>\n",
       "      <th>15<\/th>\n",
       "      <td>31730 Chelsea Crest\\nBlakemouth, CT 90395-0620<\/td>\n",
       "      <td>41 Cj<\/td>\n",
       "      <td>PM<\/td>\n",
       "      <td>Opera\/8.95.(Windows NT 5.0; en-US) Presto\/2.9....<\/td>\n",
       "      <td>Garcia-Steele<\/td>\n",
       "      <td>180069437020404<\/td>\n",
       "      <td>04\/25<\/td>\n",
       "      <td>404<\/td>\n",
       "      <td>Diners Club \/ Carte Blanche<\/td>\n",
       "      <td>amanda39@yahoo.com<\/td>\n",
       "      <td>Retail manager<\/td>\n",
       "      <td>53.176.235.33<\/td>\n",
       "      <td>el<\/td>\n",
       "      <td>71.78<\/td>\n",
       "    <\/tr>\n",
       "    <tr>\n",
       "      <th>...<\/th>\n",
       "      <td>...<\/td>\n",
       "      <td>...<\/td>\n",
       "      <td>...<\/td>\n",
       "      <td>...<\/td>\n",
       "      <td>...<\/td>\n",
       "      <td>...<\/td>\n",
       "      <td>...<\/td>\n",
       "      <td>...<\/td>\n",
       "      <td>...<\/td>\n",
       "      <td>...<\/td>\n",
       "      <td>...<\/td>\n",
       "      <td>...<\/td>\n",
       "      <td>...<\/td>\n",
       "      <td>...<\/td>\n",
       "    <\/tr>\n",
       "    <tr>\n",
       "      <th>9955<\/th>\n",
       "      <td>66539 Potts Forge\\nCartershire, AK 58271-5180<\/td>\n",
       "      <td>37 KB<\/td>\n",
       "      <td>AM<\/td>\n",
       "      <td>Mozilla\/5.0 (compatible; MSIE 8.0; Windows CE;...<\/td>\n",
       "      <td>Russell PLC<\/td>\n",
       "      <td>4716539058450<\/td>\n",
       "      <td>02\/25<\/td>\n",
       "      <td>2805<\/td>\n",
       "      <td>JCB 16 digit<\/td>\n",
       "      <td>matthewcontreras@bradshaw-skinner.com<\/td>\n",
       "      <td>Podiatrist<\/td>\n",
       "      <td>88.110.181.120<\/td>\n",
       "      <td>zh<\/td>\n",
       "      <td>84.09<\/td>\n",
       "    <\/tr>\n",
       "    <tr>\n",
       "      <th>9963<\/th>\n",
       "      <td>3865 Davis Meadow Suite 915\\nPort Stacieview, ...<\/td>\n",
       "      <td>11 fo<\/td>\n",
       "      <td>AM<\/td>\n",
       "      <td>Mozilla\/5.0 (iPod; U; CPU iPhone OS 3_3 like M...<\/td>\n",
       "      <td>Brown, Gentry and White<\/td>\n",
       "      <td>4295151255424068<\/td>\n",
       "      <td>07\/25<\/td>\n",
       "      <td>764<\/td>\n",
       "      <td>JCB 15 digit<\/td>\n",
       "      <td>zjames@gmail.com<\/td>\n",
       "      <td>Surgeon<\/td>\n",
       "      <td>171.24.198.172<\/td>\n",
       "      <td>en<\/td>\n",
       "      <td>58.17<\/td>\n",
       "    <\/tr>\n",
       "    <tr>\n",
       "      <th>9993<\/th>\n",
       "      <td>7555 Larson Locks Suite 229\\nEllisburgh, MA 34...<\/td>\n",
       "      <td>72 jg<\/td>\n",
       "      <td>PM<\/td>\n",
       "      <td>Mozilla\/5.0 (Macintosh; U; Intel Mac OS X 10_8...<\/td>\n",
       "      <td>Colon and Sons<\/td>\n",
       "      <td>30025560104631<\/td>\n",
       "      <td>10\/25<\/td>\n",
       "      <td>629<\/td>\n",
       "      <td>Maestro<\/td>\n",
       "      <td>chelseawilliams@lopez.biz<\/td>\n",
       "      <td>Designer, exhibition\/display<\/td>\n",
       "      <td>177.46.82.128<\/td>\n",
       "      <td>el<\/td>\n",
       "      <td>65.61<\/td>\n",
       "    <\/tr>\n",
       "    <tr>\n",
       "      <th>9994<\/th>\n",
       "      <td>6276 Rojas Hollow\\nLake Louis, WY 56410-7837<\/td>\n",
       "      <td>93 Ex<\/td>\n",
       "      <td>PM<\/td>\n",
       "      <td>Opera\/9.68.(X11; Linux x86_64; sl-SI) Presto\/2...<\/td>\n",
       "      <td>Ritter-Smith<\/td>\n",
       "      <td>3112186784121077<\/td>\n",
       "      <td>01\/25<\/td>\n",
       "      <td>1823<\/td>\n",
       "      <td>Maestro<\/td>\n",
       "      <td>iroberts@gmail.com<\/td>\n",
       "      <td>Education officer, museum<\/td>\n",
       "      <td>242.44.112.18<\/td>\n",
       "      <td>zh<\/td>\n",
       "      <td>31.85<\/td>\n",
       "    <\/tr>\n",
       "    <tr>\n",
       "      <th>9996<\/th>\n",
       "      <td>832 Curtis Dam Suite 785\\nNorth Edwardburgh, T...<\/td>\n",
       "      <td>41 JY<\/td>\n",
       "      <td>AM<\/td>\n",
       "      <td>Mozilla\/5.0 (compatible; MSIE 9.0; Windows NT ...<\/td>\n",
       "      <td>Hale, Collins and Wilson<\/td>\n",
       "      <td>210033169205009<\/td>\n",
       "      <td>07\/25<\/td>\n",
       "      <td>207<\/td>\n",
       "      <td>JCB 16 digit<\/td>\n",
       "      <td>mary85@hotmail.com<\/td>\n",
       "      <td>Energy engineer<\/td>\n",
       "      <td>121.133.168.51<\/td>\n",
       "      <td>pt<\/td>\n",
       "      <td>25.63<\/td>\n",
       "    <\/tr>\n",
       "  <\/tbody>\n",
       "<\/table>\n",
       "<p>1033 rows × 14 columns<\/p>\n",
       "<\/div>"
      ]
     },
     "metadata":{
      
     },
     "output_type":"display_data"
    }
   ],
   "metadata":{
    "datalore":{
     "node_id":"OpjVQIVry99FjmpHs9W6D2",
     "type":"CODE",
     "hide_input_from_viewers":true,
     "hide_output_from_viewers":true
    }
   }
  },
  {
   "cell_type":"code",
   "source":[
    "len (df[df['CC Exp Date'].str.contains('\/25')])"
   ],
   "execution_count":18,
   "outputs":[
    {
     "data":{
      "text\/plain":[
       "1033"
      ]
     },
     "metadata":{
      
     },
     "output_type":"display_data"
    }
   ],
   "metadata":{
    "datalore":{
     "node_id":"tf9S50ViUEzpQIs7h4lgjz",
     "type":"CODE",
     "hide_input_from_viewers":true,
     "hide_output_from_viewers":true
    }
   }
  },
  {
   "cell_type":"markdown",
   "source":[
    "Які найкращі 5 найпопулярніших постачальників \/ хостів електронної пошти (наприклад, gmail.com, yahoo.com тощо ...)."
   ],
   "attachments":{
    
   },
   "metadata":{
    "datalore":{
     "node_id":"hOZ9hDwBZWq8SqJNOrlzeX",
     "type":"MD",
     "hide_input_from_viewers":false,
     "hide_output_from_viewers":false,
     "report_properties":{
      "rowId":"6vZ31wNFuNvBc3kAqfUgKN"
     }
    }
   }
  },
  {
   "cell_type":"code",
   "source":[
    "df[['username', 'host']] = df['Email'].str.split('@', expand=True)\n",
    "df['host'].value_counts().sort_values(ascending=False)[:5]"
   ],
   "execution_count":19,
   "outputs":[
    {
     "data":{
      "text\/html":[
       "<pre>hotmail.com     1638\n",
       "yahoo.com       1616\n",
       "gmail.com       1605\n",
       "smith.com         42\n",
       "williams.com      37\n",
       "Name: host, dtype: int64<\/pre>"
      ]
     },
     "metadata":{
      
     },
     "output_type":"display_data"
    }
   ],
   "metadata":{
    "datalore":{
     "node_id":"YWqTZSFsohQIWSS1QyLCjr",
     "type":"CODE",
     "hide_input_from_viewers":true,
     "hide_output_from_viewers":true
    }
   }
  },
  {
   "cell_type":"markdown",
   "source":[
    "Виведіть зведену таблицю по браузерах(Browser Info), посаді(Job), та кількості транзакцій :"
   ],
   "attachments":{
    
   },
   "metadata":{
    "datalore":{
     "node_id":"TNmsdv8DAwMmu6mVnEqTqg",
     "type":"MD",
     "hide_input_from_viewers":false,
     "hide_output_from_viewers":false,
     "report_properties":{
      "rowId":"fRSa1djjoQEbQ39imd8pHV"
     }
    }
   }
  },
  {
   "cell_type":"code",
   "source":[
    "df.groupby(['Browser Info', 'Job']).size().sort_values(ascending=False).reset_index().drop_duplicates(subset='Job')"
   ],
   "execution_count":20,
   "outputs":[
    {
     "data":{
      "text\/html":[
       "<div>\n",
       "<style scoped>\n",
       "    .dataframe tbody tr th:only-of-type {\n",
       "        vertical-align: middle;\n",
       "    }\n",
       "\n",
       "    .dataframe tbody tr th {\n",
       "        vertical-align: top;\n",
       "    }\n",
       "\n",
       "    .dataframe thead th {\n",
       "        text-align: right;\n",
       "    }\n",
       "<\/style>\n",
       "<table border=\"1\" class=\"dataframe\">\n",
       "  <thead>\n",
       "    <tr style=\"text-align: right;\">\n",
       "      <th><\/th>\n",
       "      <th>Browser Info<\/th>\n",
       "      <th>Job<\/th>\n",
       "      <th>0<\/th>\n",
       "    <\/tr>\n",
       "  <\/thead>\n",
       "  <tbody>\n",
       "    <tr>\n",
       "      <th>0<\/th>\n",
       "      <td>Mozilla\/5.0 (compatible; MSIE 7.0; Windows NT ...<\/td>\n",
       "      <td>Special educational needs teacher<\/td>\n",
       "      <td>2<\/td>\n",
       "    <\/tr>\n",
       "    <tr>\n",
       "      <th>1<\/th>\n",
       "      <td>Mozilla\/5.0 (compatible; MSIE 5.0; Windows 98;...<\/td>\n",
       "      <td>Industrial buyer<\/td>\n",
       "      <td>2<\/td>\n",
       "    <\/tr>\n",
       "    <tr>\n",
       "      <th>2<\/th>\n",
       "      <td>Mozilla\/5.0 (compatible; MSIE 8.0; Windows NT ...<\/td>\n",
       "      <td>Research officer, political party<\/td>\n",
       "      <td>2<\/td>\n",
       "    <\/tr>\n",
       "    <tr>\n",
       "      <th>3<\/th>\n",
       "      <td>Mozilla\/5.0 (compatible; MSIE 8.0; Windows NT ...<\/td>\n",
       "      <td>Engineer, land<\/td>\n",
       "      <td>2<\/td>\n",
       "    <\/tr>\n",
       "    <tr>\n",
       "      <th>4<\/th>\n",
       "      <td>Mozilla\/5.0 (compatible; MSIE 6.0; Windows NT ...<\/td>\n",
       "      <td>Emergency planning\/management officer<\/td>\n",
       "      <td>2<\/td>\n",
       "    <\/tr>\n",
       "    <tr>\n",
       "      <th>...<\/th>\n",
       "      <td>...<\/td>\n",
       "      <td>...<\/td>\n",
       "      <td>...<\/td>\n",
       "    <\/tr>\n",
       "    <tr>\n",
       "      <th>2947<\/th>\n",
       "      <td>Opera\/8.84.(Windows NT 5.1; it-IT) Presto\/2.9....<\/td>\n",
       "      <td>Civil engineer, consulting<\/td>\n",
       "      <td>1<\/td>\n",
       "    <\/tr>\n",
       "    <tr>\n",
       "      <th>3169<\/th>\n",
       "      <td>Opera\/9.85.(X11; Linux x86_64; sl-SI) Presto\/2...<\/td>\n",
       "      <td>Actor<\/td>\n",
       "      <td>1<\/td>\n",
       "    <\/tr>\n",
       "    <tr>\n",
       "      <th>3301<\/th>\n",
       "      <td>Opera\/9.94.(Windows NT 5.1; sl-SI) Presto\/2.9....<\/td>\n",
       "      <td>Engineer, petroleum<\/td>\n",
       "      <td>1<\/td>\n",
       "    <\/tr>\n",
       "    <tr>\n",
       "      <th>4039<\/th>\n",
       "      <td>Opera\/8.18.(X11; Linux x86_64; en-US) Presto\/2...<\/td>\n",
       "      <td>Actuary<\/td>\n",
       "      <td>1<\/td>\n",
       "    <\/tr>\n",
       "    <tr>\n",
       "      <th>4614<\/th>\n",
       "      <td>Opera\/8.68.(X11; Linux i686; it-IT) Presto\/2.9...<\/td>\n",
       "      <td>Academic librarian<\/td>\n",
       "      <td>1<\/td>\n",
       "    <\/tr>\n",
       "  <\/tbody>\n",
       "<\/table>\n",
       "<p>623 rows × 3 columns<\/p>\n",
       "<\/div>"
      ]
     },
     "metadata":{
      
     },
     "output_type":"display_data"
    }
   ],
   "metadata":{
    "datalore":{
     "node_id":"33dFzdU5sXxId48j3OnpbK",
     "type":"CODE",
     "hide_input_from_viewers":true,
     "hide_output_from_viewers":true
    }
   }
  },
  {
   "cell_type":"markdown",
   "source":[
    "Створіть нову колонку \"Actual price\", яка утворюється із \"Purchase Price\" та націнки за принципом:\n",
    "- якщо \"Purchase Price\" > 50, націнка 20%\n",
    "- якщо \"Purchase Price\" > 100, націнка 10%\n",
    "- в інших випадках націнка 30%\n",
    "   "
   ],
   "attachments":{
    
   },
   "metadata":{
    "datalore":{
     "node_id":"9GmZX8OpllNBeTqJKe78UV",
     "type":"MD",
     "hide_input_from_viewers":false,
     "hide_output_from_viewers":false,
     "report_properties":{
      "rowId":"DF4mcCWUQKALXadpYGVqco"
     }
    }
   }
  },
  {
   "cell_type":"code",
   "source":[
    "def price(row):\n",
    "    if row['Purchase Price'] > 50:\n",
    "        return 0.2\n",
    "    elif row['Purchase Price'] > 100:\n",
    "        return 0.1\n",
    "    else:\n",
    "        return 0.3\n",
    "\n",
    "df['Actual price'] = df['Purchase Price'] * df.apply(price, axis=1) + df['Purchase Price']\n",
    "df\n"
   ],
   "execution_count":21,
   "outputs":[
    {
     "data":{
      "text\/html":[
       "<div>\n",
       "<style scoped>\n",
       "    .dataframe tbody tr th:only-of-type {\n",
       "        vertical-align: middle;\n",
       "    }\n",
       "\n",
       "    .dataframe tbody tr th {\n",
       "        vertical-align: top;\n",
       "    }\n",
       "\n",
       "    .dataframe thead th {\n",
       "        text-align: right;\n",
       "    }\n",
       "<\/style>\n",
       "<table border=\"1\" class=\"dataframe\">\n",
       "  <thead>\n",
       "    <tr style=\"text-align: right;\">\n",
       "      <th><\/th>\n",
       "      <th>Address<\/th>\n",
       "      <th>Lot<\/th>\n",
       "      <th>AM or PM<\/th>\n",
       "      <th>Browser Info<\/th>\n",
       "      <th>Company<\/th>\n",
       "      <th>Credit Card<\/th>\n",
       "      <th>CC Exp Date<\/th>\n",
       "      <th>CC Security Code<\/th>\n",
       "      <th>CC Provider<\/th>\n",
       "      <th>Email<\/th>\n",
       "      <th>Job<\/th>\n",
       "      <th>IP Address<\/th>\n",
       "      <th>Language<\/th>\n",
       "      <th>Purchase Price<\/th>\n",
       "      <th>username<\/th>\n",
       "      <th>host<\/th>\n",
       "      <th>Actual price<\/th>\n",
       "    <\/tr>\n",
       "  <\/thead>\n",
       "  <tbody>\n",
       "    <tr>\n",
       "      <th>0<\/th>\n",
       "      <td>16629 Pace Camp Apt. 448\\nAlexisborough, NE 77...<\/td>\n",
       "      <td>46 in<\/td>\n",
       "      <td>PM<\/td>\n",
       "      <td>Opera\/9.56.(X11; Linux x86_64; sl-SI) Presto\/2...<\/td>\n",
       "      <td>Martinez-Herman<\/td>\n",
       "      <td>6011929061123406<\/td>\n",
       "      <td>02\/20<\/td>\n",
       "      <td>900<\/td>\n",
       "      <td>JCB 16 digit<\/td>\n",
       "      <td>pdunlap@yahoo.com<\/td>\n",
       "      <td>Scientist, product\/process development<\/td>\n",
       "      <td>149.146.147.205<\/td>\n",
       "      <td>el<\/td>\n",
       "      <td>98.14<\/td>\n",
       "      <td>pdunlap<\/td>\n",
       "      <td>yahoo.com<\/td>\n",
       "      <td>117.768<\/td>\n",
       "    <\/tr>\n",
       "    <tr>\n",
       "      <th>1<\/th>\n",
       "      <td>9374 Jasmine Spurs Suite 508\\nSouth John, TN 8...<\/td>\n",
       "      <td>28 rn<\/td>\n",
       "      <td>PM<\/td>\n",
       "      <td>Opera\/8.93.(Windows 98; Win 9x 4.90; en-US) Pr...<\/td>\n",
       "      <td>Fletcher, Richards and Whitaker<\/td>\n",
       "      <td>3337758169645356<\/td>\n",
       "      <td>11\/18<\/td>\n",
       "      <td>561<\/td>\n",
       "      <td>Mastercard<\/td>\n",
       "      <td>anthony41@reed.com<\/td>\n",
       "      <td>Drilling engineer<\/td>\n",
       "      <td>15.160.41.51<\/td>\n",
       "      <td>fr<\/td>\n",
       "      <td>70.73<\/td>\n",
       "      <td>anthony41<\/td>\n",
       "      <td>reed.com<\/td>\n",
       "      <td>84.876<\/td>\n",
       "    <\/tr>\n",
       "    <tr>\n",
       "      <th>2<\/th>\n",
       "      <td>Unit 0065 Box 5052\\nDPO AP 27450<\/td>\n",
       "      <td>94 vE<\/td>\n",
       "      <td>PM<\/td>\n",
       "      <td>Mozilla\/5.0 (compatible; MSIE 9.0; Windows NT ...<\/td>\n",
       "      <td>Simpson, Williams and Pham<\/td>\n",
       "      <td>675957666125<\/td>\n",
       "      <td>08\/19<\/td>\n",
       "      <td>699<\/td>\n",
       "      <td>JCB 16 digit<\/td>\n",
       "      <td>amymiller@morales-harrison.com<\/td>\n",
       "      <td>Customer service manager<\/td>\n",
       "      <td>132.207.160.22<\/td>\n",
       "      <td>de<\/td>\n",
       "      <td>0.95<\/td>\n",
       "      <td>amymiller<\/td>\n",
       "      <td>morales-harrison.com<\/td>\n",
       "      <td>1.235<\/td>\n",
       "    <\/tr>\n",
       "    <tr>\n",
       "      <th>3<\/th>\n",
       "      <td>7780 Julia Fords\\nNew Stacy, WA 45798<\/td>\n",
       "      <td>36 vm<\/td>\n",
       "      <td>PM<\/td>\n",
       "      <td>Mozilla\/5.0 (Macintosh; Intel Mac OS X 10_8_0 ...<\/td>\n",
       "      <td>Williams, Marshall and Buchanan<\/td>\n",
       "      <td>6011578504430710<\/td>\n",
       "      <td>02\/24<\/td>\n",
       "      <td>384<\/td>\n",
       "      <td>Discover<\/td>\n",
       "      <td>brent16@olson-robinson.info<\/td>\n",
       "      <td>Drilling engineer<\/td>\n",
       "      <td>30.250.74.19<\/td>\n",
       "      <td>es<\/td>\n",
       "      <td>78.04<\/td>\n",
       "      <td>brent16<\/td>\n",
       "      <td>olson-robinson.info<\/td>\n",
       "      <td>93.648<\/td>\n",
       "    <\/tr>\n",
       "    <tr>\n",
       "      <th>4<\/th>\n",
       "      <td>23012 Munoz Drive Suite 337\\nNew Cynthia, TX 5...<\/td>\n",
       "      <td>20 IE<\/td>\n",
       "      <td>AM<\/td>\n",
       "      <td>Opera\/9.58.(X11; Linux x86_64; it-IT) Presto\/2...<\/td>\n",
       "      <td>Brown, Watson and Andrews<\/td>\n",
       "      <td>6011456623207998<\/td>\n",
       "      <td>10\/25<\/td>\n",
       "      <td>678<\/td>\n",
       "      <td>Diners Club \/ Carte Blanche<\/td>\n",
       "      <td>christopherwright@gmail.com<\/td>\n",
       "      <td>Fine artist<\/td>\n",
       "      <td>24.140.33.94<\/td>\n",
       "      <td>es<\/td>\n",
       "      <td>77.82<\/td>\n",
       "      <td>christopherwright<\/td>\n",
       "      <td>gmail.com<\/td>\n",
       "      <td>93.384<\/td>\n",
       "    <\/tr>\n",
       "    <tr>\n",
       "      <th>...<\/th>\n",
       "      <td>...<\/td>\n",
       "      <td>...<\/td>\n",
       "      <td>...<\/td>\n",
       "      <td>...<\/td>\n",
       "      <td>...<\/td>\n",
       "      <td>...<\/td>\n",
       "      <td>...<\/td>\n",
       "      <td>...<\/td>\n",
       "      <td>...<\/td>\n",
       "      <td>...<\/td>\n",
       "      <td>...<\/td>\n",
       "      <td>...<\/td>\n",
       "      <td>...<\/td>\n",
       "      <td>...<\/td>\n",
       "      <td>...<\/td>\n",
       "      <td>...<\/td>\n",
       "      <td>...<\/td>\n",
       "    <\/tr>\n",
       "    <tr>\n",
       "      <th>9995<\/th>\n",
       "      <td>966 Castaneda Locks\\nWest Juliafurt, CO 96415<\/td>\n",
       "      <td>92 XI<\/td>\n",
       "      <td>PM<\/td>\n",
       "      <td>Mozilla\/5.0 (Windows NT 5.1) AppleWebKit\/5352 ...<\/td>\n",
       "      <td>Randall-Sloan<\/td>\n",
       "      <td>342945015358701<\/td>\n",
       "      <td>03\/22<\/td>\n",
       "      <td>838<\/td>\n",
       "      <td>JCB 15 digit<\/td>\n",
       "      <td>iscott@wade-garner.com<\/td>\n",
       "      <td>Printmaker<\/td>\n",
       "      <td>29.73.197.114<\/td>\n",
       "      <td>it<\/td>\n",
       "      <td>82.21<\/td>\n",
       "      <td>iscott<\/td>\n",
       "      <td>wade-garner.com<\/td>\n",
       "      <td>98.652<\/td>\n",
       "    <\/tr>\n",
       "    <tr>\n",
       "      <th>9996<\/th>\n",
       "      <td>832 Curtis Dam Suite 785\\nNorth Edwardburgh, T...<\/td>\n",
       "      <td>41 JY<\/td>\n",
       "      <td>AM<\/td>\n",
       "      <td>Mozilla\/5.0 (compatible; MSIE 9.0; Windows NT ...<\/td>\n",
       "      <td>Hale, Collins and Wilson<\/td>\n",
       "      <td>210033169205009<\/td>\n",
       "      <td>07\/25<\/td>\n",
       "      <td>207<\/td>\n",
       "      <td>JCB 16 digit<\/td>\n",
       "      <td>mary85@hotmail.com<\/td>\n",
       "      <td>Energy engineer<\/td>\n",
       "      <td>121.133.168.51<\/td>\n",
       "      <td>pt<\/td>\n",
       "      <td>25.63<\/td>\n",
       "      <td>mary85<\/td>\n",
       "      <td>hotmail.com<\/td>\n",
       "      <td>33.319<\/td>\n",
       "    <\/tr>\n",
       "    <tr>\n",
       "      <th>9997<\/th>\n",
       "      <td>Unit 4434 Box 6343\\nDPO AE 28026-0283<\/td>\n",
       "      <td>74 Zh<\/td>\n",
       "      <td>AM<\/td>\n",
       "      <td>Mozilla\/5.0 (Macintosh; U; Intel Mac OS X 10_7...<\/td>\n",
       "      <td>Anderson Ltd<\/td>\n",
       "      <td>6011539787356311<\/td>\n",
       "      <td>05\/21<\/td>\n",
       "      <td>1<\/td>\n",
       "      <td>VISA 16 digit<\/td>\n",
       "      <td>tyler16@gmail.com<\/td>\n",
       "      <td>Veterinary surgeon<\/td>\n",
       "      <td>156.210.0.254<\/td>\n",
       "      <td>el<\/td>\n",
       "      <td>83.98<\/td>\n",
       "      <td>tyler16<\/td>\n",
       "      <td>gmail.com<\/td>\n",
       "      <td>100.776<\/td>\n",
       "    <\/tr>\n",
       "    <tr>\n",
       "      <th>9998<\/th>\n",
       "      <td>0096 English Rest\\nRoystad, IA 12457<\/td>\n",
       "      <td>74 cL<\/td>\n",
       "      <td>PM<\/td>\n",
       "      <td>Mozilla\/5.0 (Macintosh; Intel Mac OS X 10_8_8;...<\/td>\n",
       "      <td>Cook Inc<\/td>\n",
       "      <td>180003348082930<\/td>\n",
       "      <td>11\/17<\/td>\n",
       "      <td>987<\/td>\n",
       "      <td>American Express<\/td>\n",
       "      <td>elizabethmoore@reid.net<\/td>\n",
       "      <td>Local government officer<\/td>\n",
       "      <td>55.78.26.143<\/td>\n",
       "      <td>es<\/td>\n",
       "      <td>38.84<\/td>\n",
       "      <td>elizabethmoore<\/td>\n",
       "      <td>reid.net<\/td>\n",
       "      <td>50.492<\/td>\n",
       "    <\/tr>\n",
       "    <tr>\n",
       "      <th>9999<\/th>\n",
       "      <td>40674 Barrett Stravenue\\nGrimesville, WI 79682<\/td>\n",
       "      <td>64 Hr<\/td>\n",
       "      <td>AM<\/td>\n",
       "      <td>Mozilla\/5.0 (X11; Linux i686; rv:1.9.5.20) Gec...<\/td>\n",
       "      <td>Greene Inc<\/td>\n",
       "      <td>4139972901927273<\/td>\n",
       "      <td>02\/19<\/td>\n",
       "      <td>302<\/td>\n",
       "      <td>JCB 15 digit<\/td>\n",
       "      <td>rachelford@vaughn.com<\/td>\n",
       "      <td>Embryologist, clinical<\/td>\n",
       "      <td>176.119.198.199<\/td>\n",
       "      <td>el<\/td>\n",
       "      <td>67.59<\/td>\n",
       "      <td>rachelford<\/td>\n",
       "      <td>vaughn.com<\/td>\n",
       "      <td>81.108<\/td>\n",
       "    <\/tr>\n",
       "  <\/tbody>\n",
       "<\/table>\n",
       "<p>10000 rows × 17 columns<\/p>\n",
       "<\/div>"
      ]
     },
     "metadata":{
      
     },
     "output_type":"display_data"
    }
   ],
   "metadata":{
    "datalore":{
     "node_id":"xxPltJlBZNNMLonCOaFdAO",
     "type":"CODE",
     "hide_input_from_viewers":true,
     "hide_output_from_viewers":true
    }
   }
  },
  {
   "cell_type":"markdown",
   "source":[
    "Зробіть рангування набору даних по \"Language\" та \"Actual price\" в порядку спадання ціни.\n",
    "\n",
    "https:\/\/pandas.pydata.org\/pandas-docs\/stable\/reference\/api\/pandas.DataFrame.rank.html"
   ],
   "attachments":{
    
   },
   "metadata":{
    "datalore":{
     "node_id":"1PltbgDajmSJTllKzIGVYD",
     "type":"MD",
     "hide_input_from_viewers":false,
     "hide_output_from_viewers":false,
     "report_properties":{
      "rowId":"SnryV2Wu8bciPm7lCKiKIe"
     }
    }
   }
  },
  {
   "cell_type":"code",
   "source":[
    "df['Rank'] = df.groupby('Language')['Actual price'].rank(method='min', ascending=False)\n",
    "df"
   ],
   "execution_count":22,
   "outputs":[
    {
     "data":{
      "text\/html":[
       "<div>\n",
       "<style scoped>\n",
       "    .dataframe tbody tr th:only-of-type {\n",
       "        vertical-align: middle;\n",
       "    }\n",
       "\n",
       "    .dataframe tbody tr th {\n",
       "        vertical-align: top;\n",
       "    }\n",
       "\n",
       "    .dataframe thead th {\n",
       "        text-align: right;\n",
       "    }\n",
       "<\/style>\n",
       "<table border=\"1\" class=\"dataframe\">\n",
       "  <thead>\n",
       "    <tr style=\"text-align: right;\">\n",
       "      <th><\/th>\n",
       "      <th>Address<\/th>\n",
       "      <th>Lot<\/th>\n",
       "      <th>AM or PM<\/th>\n",
       "      <th>Browser Info<\/th>\n",
       "      <th>Company<\/th>\n",
       "      <th>Credit Card<\/th>\n",
       "      <th>CC Exp Date<\/th>\n",
       "      <th>CC Security Code<\/th>\n",
       "      <th>CC Provider<\/th>\n",
       "      <th>Email<\/th>\n",
       "      <th>Job<\/th>\n",
       "      <th>IP Address<\/th>\n",
       "      <th>Language<\/th>\n",
       "      <th>Purchase Price<\/th>\n",
       "      <th>username<\/th>\n",
       "      <th>host<\/th>\n",
       "      <th>Actual price<\/th>\n",
       "      <th>Rank<\/th>\n",
       "    <\/tr>\n",
       "  <\/thead>\n",
       "  <tbody>\n",
       "    <tr>\n",
       "      <th>0<\/th>\n",
       "      <td>16629 Pace Camp Apt. 448\\nAlexisborough, NE 77...<\/td>\n",
       "      <td>46 in<\/td>\n",
       "      <td>PM<\/td>\n",
       "      <td>Opera\/9.56.(X11; Linux x86_64; sl-SI) Presto\/2...<\/td>\n",
       "      <td>Martinez-Herman<\/td>\n",
       "      <td>6011929061123406<\/td>\n",
       "      <td>02\/20<\/td>\n",
       "      <td>900<\/td>\n",
       "      <td>JCB 16 digit<\/td>\n",
       "      <td>pdunlap@yahoo.com<\/td>\n",
       "      <td>Scientist, product\/process development<\/td>\n",
       "      <td>149.146.147.205<\/td>\n",
       "      <td>el<\/td>\n",
       "      <td>98.14<\/td>\n",
       "      <td>pdunlap<\/td>\n",
       "      <td>yahoo.com<\/td>\n",
       "      <td>117.768<\/td>\n",
       "      <td>27.0<\/td>\n",
       "    <\/tr>\n",
       "    <tr>\n",
       "      <th>1<\/th>\n",
       "      <td>9374 Jasmine Spurs Suite 508\\nSouth John, TN 8...<\/td>\n",
       "      <td>28 rn<\/td>\n",
       "      <td>PM<\/td>\n",
       "      <td>Opera\/8.93.(Windows 98; Win 9x 4.90; en-US) Pr...<\/td>\n",
       "      <td>Fletcher, Richards and Whitaker<\/td>\n",
       "      <td>3337758169645356<\/td>\n",
       "      <td>11\/18<\/td>\n",
       "      <td>561<\/td>\n",
       "      <td>Mastercard<\/td>\n",
       "      <td>anthony41@reed.com<\/td>\n",
       "      <td>Drilling engineer<\/td>\n",
       "      <td>15.160.41.51<\/td>\n",
       "      <td>fr<\/td>\n",
       "      <td>70.73<\/td>\n",
       "      <td>anthony41<\/td>\n",
       "      <td>reed.com<\/td>\n",
       "      <td>84.876<\/td>\n",
       "      <td>327.0<\/td>\n",
       "    <\/tr>\n",
       "    <tr>\n",
       "      <th>2<\/th>\n",
       "      <td>Unit 0065 Box 5052\\nDPO AP 27450<\/td>\n",
       "      <td>94 vE<\/td>\n",
       "      <td>PM<\/td>\n",
       "      <td>Mozilla\/5.0 (compatible; MSIE 9.0; Windows NT ...<\/td>\n",
       "      <td>Simpson, Williams and Pham<\/td>\n",
       "      <td>675957666125<\/td>\n",
       "      <td>08\/19<\/td>\n",
       "      <td>699<\/td>\n",
       "      <td>JCB 16 digit<\/td>\n",
       "      <td>amymiller@morales-harrison.com<\/td>\n",
       "      <td>Customer service manager<\/td>\n",
       "      <td>132.207.160.22<\/td>\n",
       "      <td>de<\/td>\n",
       "      <td>0.95<\/td>\n",
       "      <td>amymiller<\/td>\n",
       "      <td>morales-harrison.com<\/td>\n",
       "      <td>1.235<\/td>\n",
       "      <td>1143.0<\/td>\n",
       "    <\/tr>\n",
       "    <tr>\n",
       "      <th>3<\/th>\n",
       "      <td>7780 Julia Fords\\nNew Stacy, WA 45798<\/td>\n",
       "      <td>36 vm<\/td>\n",
       "      <td>PM<\/td>\n",
       "      <td>Mozilla\/5.0 (Macintosh; Intel Mac OS X 10_8_0 ...<\/td>\n",
       "      <td>Williams, Marshall and Buchanan<\/td>\n",
       "      <td>6011578504430710<\/td>\n",
       "      <td>02\/24<\/td>\n",
       "      <td>384<\/td>\n",
       "      <td>Discover<\/td>\n",
       "      <td>brent16@olson-robinson.info<\/td>\n",
       "      <td>Drilling engineer<\/td>\n",
       "      <td>30.250.74.19<\/td>\n",
       "      <td>es<\/td>\n",
       "      <td>78.04<\/td>\n",
       "      <td>brent16<\/td>\n",
       "      <td>olson-robinson.info<\/td>\n",
       "      <td>93.648<\/td>\n",
       "      <td>239.0<\/td>\n",
       "    <\/tr>\n",
       "    <tr>\n",
       "      <th>4<\/th>\n",
       "      <td>23012 Munoz Drive Suite 337\\nNew Cynthia, TX 5...<\/td>\n",
       "      <td>20 IE<\/td>\n",
       "      <td>AM<\/td>\n",
       "      <td>Opera\/9.58.(X11; Linux x86_64; it-IT) Presto\/2...<\/td>\n",
       "      <td>Brown, Watson and Andrews<\/td>\n",
       "      <td>6011456623207998<\/td>\n",
       "      <td>10\/25<\/td>\n",
       "      <td>678<\/td>\n",
       "      <td>Diners Club \/ Carte Blanche<\/td>\n",
       "      <td>christopherwright@gmail.com<\/td>\n",
       "      <td>Fine artist<\/td>\n",
       "      <td>24.140.33.94<\/td>\n",
       "      <td>es<\/td>\n",
       "      <td>77.82<\/td>\n",
       "      <td>christopherwright<\/td>\n",
       "      <td>gmail.com<\/td>\n",
       "      <td>93.384<\/td>\n",
       "      <td>244.0<\/td>\n",
       "    <\/tr>\n",
       "    <tr>\n",
       "      <th>...<\/th>\n",
       "      <td>...<\/td>\n",
       "      <td>...<\/td>\n",
       "      <td>...<\/td>\n",
       "      <td>...<\/td>\n",
       "      <td>...<\/td>\n",
       "      <td>...<\/td>\n",
       "      <td>...<\/td>\n",
       "      <td>...<\/td>\n",
       "      <td>...<\/td>\n",
       "      <td>...<\/td>\n",
       "      <td>...<\/td>\n",
       "      <td>...<\/td>\n",
       "      <td>...<\/td>\n",
       "      <td>...<\/td>\n",
       "      <td>...<\/td>\n",
       "      <td>...<\/td>\n",
       "      <td>...<\/td>\n",
       "      <td>...<\/td>\n",
       "    <\/tr>\n",
       "    <tr>\n",
       "      <th>9995<\/th>\n",
       "      <td>966 Castaneda Locks\\nWest Juliafurt, CO 96415<\/td>\n",
       "      <td>92 XI<\/td>\n",
       "      <td>PM<\/td>\n",
       "      <td>Mozilla\/5.0 (Windows NT 5.1) AppleWebKit\/5352 ...<\/td>\n",
       "      <td>Randall-Sloan<\/td>\n",
       "      <td>342945015358701<\/td>\n",
       "      <td>03\/22<\/td>\n",
       "      <td>838<\/td>\n",
       "      <td>JCB 15 digit<\/td>\n",
       "      <td>iscott@wade-garner.com<\/td>\n",
       "      <td>Printmaker<\/td>\n",
       "      <td>29.73.197.114<\/td>\n",
       "      <td>it<\/td>\n",
       "      <td>82.21<\/td>\n",
       "      <td>iscott<\/td>\n",
       "      <td>wade-garner.com<\/td>\n",
       "      <td>98.652<\/td>\n",
       "      <td>202.0<\/td>\n",
       "    <\/tr>\n",
       "    <tr>\n",
       "      <th>9996<\/th>\n",
       "      <td>832 Curtis Dam Suite 785\\nNorth Edwardburgh, T...<\/td>\n",
       "      <td>41 JY<\/td>\n",
       "      <td>AM<\/td>\n",
       "      <td>Mozilla\/5.0 (compatible; MSIE 9.0; Windows NT ...<\/td>\n",
       "      <td>Hale, Collins and Wilson<\/td>\n",
       "      <td>210033169205009<\/td>\n",
       "      <td>07\/25<\/td>\n",
       "      <td>207<\/td>\n",
       "      <td>JCB 16 digit<\/td>\n",
       "      <td>mary85@hotmail.com<\/td>\n",
       "      <td>Energy engineer<\/td>\n",
       "      <td>121.133.168.51<\/td>\n",
       "      <td>pt<\/td>\n",
       "      <td>25.63<\/td>\n",
       "      <td>mary85<\/td>\n",
       "      <td>hotmail.com<\/td>\n",
       "      <td>33.319<\/td>\n",
       "      <td>858.0<\/td>\n",
       "    <\/tr>\n",
       "    <tr>\n",
       "      <th>9997<\/th>\n",
       "      <td>Unit 4434 Box 6343\\nDPO AE 28026-0283<\/td>\n",
       "      <td>74 Zh<\/td>\n",
       "      <td>AM<\/td>\n",
       "      <td>Mozilla\/5.0 (Macintosh; U; Intel Mac OS X 10_7...<\/td>\n",
       "      <td>Anderson Ltd<\/td>\n",
       "      <td>6011539787356311<\/td>\n",
       "      <td>05\/21<\/td>\n",
       "      <td>1<\/td>\n",
       "      <td>VISA 16 digit<\/td>\n",
       "      <td>tyler16@gmail.com<\/td>\n",
       "      <td>Veterinary surgeon<\/td>\n",
       "      <td>156.210.0.254<\/td>\n",
       "      <td>el<\/td>\n",
       "      <td>83.98<\/td>\n",
       "      <td>tyler16<\/td>\n",
       "      <td>gmail.com<\/td>\n",
       "      <td>100.776<\/td>\n",
       "      <td>193.0<\/td>\n",
       "    <\/tr>\n",
       "    <tr>\n",
       "      <th>9998<\/th>\n",
       "      <td>0096 English Rest\\nRoystad, IA 12457<\/td>\n",
       "      <td>74 cL<\/td>\n",
       "      <td>PM<\/td>\n",
       "      <td>Mozilla\/5.0 (Macintosh; Intel Mac OS X 10_8_8;...<\/td>\n",
       "      <td>Cook Inc<\/td>\n",
       "      <td>180003348082930<\/td>\n",
       "      <td>11\/17<\/td>\n",
       "      <td>987<\/td>\n",
       "      <td>American Express<\/td>\n",
       "      <td>elizabethmoore@reid.net<\/td>\n",
       "      <td>Local government officer<\/td>\n",
       "      <td>55.78.26.143<\/td>\n",
       "      <td>es<\/td>\n",
       "      <td>38.84<\/td>\n",
       "      <td>elizabethmoore<\/td>\n",
       "      <td>reid.net<\/td>\n",
       "      <td>50.492<\/td>\n",
       "      <td>640.0<\/td>\n",
       "    <\/tr>\n",
       "    <tr>\n",
       "      <th>9999<\/th>\n",
       "      <td>40674 Barrett Stravenue\\nGrimesville, WI 79682<\/td>\n",
       "      <td>64 Hr<\/td>\n",
       "      <td>AM<\/td>\n",
       "      <td>Mozilla\/5.0 (X11; Linux i686; rv:1.9.5.20) Gec...<\/td>\n",
       "      <td>Greene Inc<\/td>\n",
       "      <td>4139972901927273<\/td>\n",
       "      <td>02\/19<\/td>\n",
       "      <td>302<\/td>\n",
       "      <td>JCB 15 digit<\/td>\n",
       "      <td>rachelford@vaughn.com<\/td>\n",
       "      <td>Embryologist, clinical<\/td>\n",
       "      <td>176.119.198.199<\/td>\n",
       "      <td>el<\/td>\n",
       "      <td>67.59<\/td>\n",
       "      <td>rachelford<\/td>\n",
       "      <td>vaughn.com<\/td>\n",
       "      <td>81.108<\/td>\n",
       "      <td>385.0<\/td>\n",
       "    <\/tr>\n",
       "  <\/tbody>\n",
       "<\/table>\n",
       "<p>10000 rows × 18 columns<\/p>\n",
       "<\/div>"
      ]
     },
     "metadata":{
      
     },
     "output_type":"display_data"
    }
   ],
   "metadata":{
    "datalore":{
     "node_id":"4ttGZSuAupsUlRGCGvB96C",
     "type":"CODE",
     "hide_input_from_viewers":false,
     "hide_output_from_viewers":false,
     "report_properties":{
      "rowId":"GCFH41Nmd67jGOnHzwz2Kx"
     }
    }
   }
  },
  {
   "cell_type":"markdown",
   "source":[
    "Колонку \"Language\" (категоріальна змінна) \"закодуйте\", тобто утворити індикаторні колоник. В наборі не повинна залишитися колонка \"Language\".\n",
    "\n",
    "https:\/\/pandas.pydata.org\/pandas-docs\/stable\/reference\/api\/pandas.DataFrame.rank.html"
   ],
   "attachments":{
    
   },
   "metadata":{
    "datalore":{
     "node_id":"yU8GWxBDSEH8M0i8DylS9t",
     "type":"MD",
     "hide_input_from_viewers":false,
     "hide_output_from_viewers":false,
     "report_properties":{
      "rowId":"uv0wdeMSbiek8si2KUhsj0"
     }
    }
   }
  },
  {
   "cell_type":"code",
   "source":[
    "encoded_df = pd.get_dummies(df, columns=['Language'], prefix='', prefix_sep='')\n",
    "encoded_df = encoded_df.loc[:, ~encoded_df.columns.str.startswith('Language')]"
   ],
   "execution_count":23,
   "outputs":[
    
   ],
   "metadata":{
    "datalore":{
     "node_id":"Gb7EPtrh7gdem7ub9NLm8z",
     "type":"CODE",
     "hide_input_from_viewers":true,
     "hide_output_from_viewers":true
    }
   }
  },
  {
   "cell_type":"code",
   "source":[
    "encoded_df"
   ],
   "execution_count":24,
   "outputs":[
    {
     "data":{
      "text\/html":[
       "<div>\n",
       "<style scoped>\n",
       "    .dataframe tbody tr th:only-of-type {\n",
       "        vertical-align: middle;\n",
       "    }\n",
       "\n",
       "    .dataframe tbody tr th {\n",
       "        vertical-align: top;\n",
       "    }\n",
       "\n",
       "    .dataframe thead th {\n",
       "        text-align: right;\n",
       "    }\n",
       "<\/style>\n",
       "<table border=\"1\" class=\"dataframe\">\n",
       "  <thead>\n",
       "    <tr style=\"text-align: right;\">\n",
       "      <th><\/th>\n",
       "      <th>Address<\/th>\n",
       "      <th>Lot<\/th>\n",
       "      <th>AM or PM<\/th>\n",
       "      <th>Browser Info<\/th>\n",
       "      <th>Company<\/th>\n",
       "      <th>Credit Card<\/th>\n",
       "      <th>CC Exp Date<\/th>\n",
       "      <th>CC Security Code<\/th>\n",
       "      <th>CC Provider<\/th>\n",
       "      <th>Email<\/th>\n",
       "      <th>...<\/th>\n",
       "      <th>Rank<\/th>\n",
       "      <th>de<\/th>\n",
       "      <th>el<\/th>\n",
       "      <th>en<\/th>\n",
       "      <th>es<\/th>\n",
       "      <th>fr<\/th>\n",
       "      <th>it<\/th>\n",
       "      <th>pt<\/th>\n",
       "      <th>ru<\/th>\n",
       "      <th>zh<\/th>\n",
       "    <\/tr>\n",
       "  <\/thead>\n",
       "  <tbody>\n",
       "    <tr>\n",
       "      <th>0<\/th>\n",
       "      <td>16629 Pace Camp Apt. 448\\nAlexisborough, NE 77...<\/td>\n",
       "      <td>46 in<\/td>\n",
       "      <td>PM<\/td>\n",
       "      <td>Opera\/9.56.(X11; Linux x86_64; sl-SI) Presto\/2...<\/td>\n",
       "      <td>Martinez-Herman<\/td>\n",
       "      <td>6011929061123406<\/td>\n",
       "      <td>02\/20<\/td>\n",
       "      <td>900<\/td>\n",
       "      <td>JCB 16 digit<\/td>\n",
       "      <td>pdunlap@yahoo.com<\/td>\n",
       "      <td>...<\/td>\n",
       "      <td>27.0<\/td>\n",
       "      <td>0<\/td>\n",
       "      <td>1<\/td>\n",
       "      <td>0<\/td>\n",
       "      <td>0<\/td>\n",
       "      <td>0<\/td>\n",
       "      <td>0<\/td>\n",
       "      <td>0<\/td>\n",
       "      <td>0<\/td>\n",
       "      <td>0<\/td>\n",
       "    <\/tr>\n",
       "    <tr>\n",
       "      <th>1<\/th>\n",
       "      <td>9374 Jasmine Spurs Suite 508\\nSouth John, TN 8...<\/td>\n",
       "      <td>28 rn<\/td>\n",
       "      <td>PM<\/td>\n",
       "      <td>Opera\/8.93.(Windows 98; Win 9x 4.90; en-US) Pr...<\/td>\n",
       "      <td>Fletcher, Richards and Whitaker<\/td>\n",
       "      <td>3337758169645356<\/td>\n",
       "      <td>11\/18<\/td>\n",
       "      <td>561<\/td>\n",
       "      <td>Mastercard<\/td>\n",
       "      <td>anthony41@reed.com<\/td>\n",
       "      <td>...<\/td>\n",
       "      <td>327.0<\/td>\n",
       "      <td>0<\/td>\n",
       "      <td>0<\/td>\n",
       "      <td>0<\/td>\n",
       "      <td>0<\/td>\n",
       "      <td>1<\/td>\n",
       "      <td>0<\/td>\n",
       "      <td>0<\/td>\n",
       "      <td>0<\/td>\n",
       "      <td>0<\/td>\n",
       "    <\/tr>\n",
       "    <tr>\n",
       "      <th>2<\/th>\n",
       "      <td>Unit 0065 Box 5052\\nDPO AP 27450<\/td>\n",
       "      <td>94 vE<\/td>\n",
       "      <td>PM<\/td>\n",
       "      <td>Mozilla\/5.0 (compatible; MSIE 9.0; Windows NT ...<\/td>\n",
       "      <td>Simpson, Williams and Pham<\/td>\n",
       "      <td>675957666125<\/td>\n",
       "      <td>08\/19<\/td>\n",
       "      <td>699<\/td>\n",
       "      <td>JCB 16 digit<\/td>\n",
       "      <td>amymiller@morales-harrison.com<\/td>\n",
       "      <td>...<\/td>\n",
       "      <td>1143.0<\/td>\n",
       "      <td>1<\/td>\n",
       "      <td>0<\/td>\n",
       "      <td>0<\/td>\n",
       "      <td>0<\/td>\n",
       "      <td>0<\/td>\n",
       "      <td>0<\/td>\n",
       "      <td>0<\/td>\n",
       "      <td>0<\/td>\n",
       "      <td>0<\/td>\n",
       "    <\/tr>\n",
       "    <tr>\n",
       "      <th>3<\/th>\n",
       "      <td>7780 Julia Fords\\nNew Stacy, WA 45798<\/td>\n",
       "      <td>36 vm<\/td>\n",
       "      <td>PM<\/td>\n",
       "      <td>Mozilla\/5.0 (Macintosh; Intel Mac OS X 10_8_0 ...<\/td>\n",
       "      <td>Williams, Marshall and Buchanan<\/td>\n",
       "      <td>6011578504430710<\/td>\n",
       "      <td>02\/24<\/td>\n",
       "      <td>384<\/td>\n",
       "      <td>Discover<\/td>\n",
       "      <td>brent16@olson-robinson.info<\/td>\n",
       "      <td>...<\/td>\n",
       "      <td>239.0<\/td>\n",
       "      <td>0<\/td>\n",
       "      <td>0<\/td>\n",
       "      <td>0<\/td>\n",
       "      <td>1<\/td>\n",
       "      <td>0<\/td>\n",
       "      <td>0<\/td>\n",
       "      <td>0<\/td>\n",
       "      <td>0<\/td>\n",
       "      <td>0<\/td>\n",
       "    <\/tr>\n",
       "    <tr>\n",
       "      <th>4<\/th>\n",
       "      <td>23012 Munoz Drive Suite 337\\nNew Cynthia, TX 5...<\/td>\n",
       "      <td>20 IE<\/td>\n",
       "      <td>AM<\/td>\n",
       "      <td>Opera\/9.58.(X11; Linux x86_64; it-IT) Presto\/2...<\/td>\n",
       "      <td>Brown, Watson and Andrews<\/td>\n",
       "      <td>6011456623207998<\/td>\n",
       "      <td>10\/25<\/td>\n",
       "      <td>678<\/td>\n",
       "      <td>Diners Club \/ Carte Blanche<\/td>\n",
       "      <td>christopherwright@gmail.com<\/td>\n",
       "      <td>...<\/td>\n",
       "      <td>244.0<\/td>\n",
       "      <td>0<\/td>\n",
       "      <td>0<\/td>\n",
       "      <td>0<\/td>\n",
       "      <td>1<\/td>\n",
       "      <td>0<\/td>\n",
       "      <td>0<\/td>\n",
       "      <td>0<\/td>\n",
       "      <td>0<\/td>\n",
       "      <td>0<\/td>\n",
       "    <\/tr>\n",
       "    <tr>\n",
       "      <th>...<\/th>\n",
       "      <td>...<\/td>\n",
       "      <td>...<\/td>\n",
       "      <td>...<\/td>\n",
       "      <td>...<\/td>\n",
       "      <td>...<\/td>\n",
       "      <td>...<\/td>\n",
       "      <td>...<\/td>\n",
       "      <td>...<\/td>\n",
       "      <td>...<\/td>\n",
       "      <td>...<\/td>\n",
       "      <td>...<\/td>\n",
       "      <td>...<\/td>\n",
       "      <td>...<\/td>\n",
       "      <td>...<\/td>\n",
       "      <td>...<\/td>\n",
       "      <td>...<\/td>\n",
       "      <td>...<\/td>\n",
       "      <td>...<\/td>\n",
       "      <td>...<\/td>\n",
       "      <td>...<\/td>\n",
       "      <td>...<\/td>\n",
       "    <\/tr>\n",
       "    <tr>\n",
       "      <th>9995<\/th>\n",
       "      <td>966 Castaneda Locks\\nWest Juliafurt, CO 96415<\/td>\n",
       "      <td>92 XI<\/td>\n",
       "      <td>PM<\/td>\n",
       "      <td>Mozilla\/5.0 (Windows NT 5.1) AppleWebKit\/5352 ...<\/td>\n",
       "      <td>Randall-Sloan<\/td>\n",
       "      <td>342945015358701<\/td>\n",
       "      <td>03\/22<\/td>\n",
       "      <td>838<\/td>\n",
       "      <td>JCB 15 digit<\/td>\n",
       "      <td>iscott@wade-garner.com<\/td>\n",
       "      <td>...<\/td>\n",
       "      <td>202.0<\/td>\n",
       "      <td>0<\/td>\n",
       "      <td>0<\/td>\n",
       "      <td>0<\/td>\n",
       "      <td>0<\/td>\n",
       "      <td>0<\/td>\n",
       "      <td>1<\/td>\n",
       "      <td>0<\/td>\n",
       "      <td>0<\/td>\n",
       "      <td>0<\/td>\n",
       "    <\/tr>\n",
       "    <tr>\n",
       "      <th>9996<\/th>\n",
       "      <td>832 Curtis Dam Suite 785\\nNorth Edwardburgh, T...<\/td>\n",
       "      <td>41 JY<\/td>\n",
       "      <td>AM<\/td>\n",
       "      <td>Mozilla\/5.0 (compatible; MSIE 9.0; Windows NT ...<\/td>\n",
       "      <td>Hale, Collins and Wilson<\/td>\n",
       "      <td>210033169205009<\/td>\n",
       "      <td>07\/25<\/td>\n",
       "      <td>207<\/td>\n",
       "      <td>JCB 16 digit<\/td>\n",
       "      <td>mary85@hotmail.com<\/td>\n",
       "      <td>...<\/td>\n",
       "      <td>858.0<\/td>\n",
       "      <td>0<\/td>\n",
       "      <td>0<\/td>\n",
       "      <td>0<\/td>\n",
       "      <td>0<\/td>\n",
       "      <td>0<\/td>\n",
       "      <td>0<\/td>\n",
       "      <td>1<\/td>\n",
       "      <td>0<\/td>\n",
       "      <td>0<\/td>\n",
       "    <\/tr>\n",
       "    <tr>\n",
       "      <th>9997<\/th>\n",
       "      <td>Unit 4434 Box 6343\\nDPO AE 28026-0283<\/td>\n",
       "      <td>74 Zh<\/td>\n",
       "      <td>AM<\/td>\n",
       "      <td>Mozilla\/5.0 (Macintosh; U; Intel Mac OS X 10_7...<\/td>\n",
       "      <td>Anderson Ltd<\/td>\n",
       "      <td>6011539787356311<\/td>\n",
       "      <td>05\/21<\/td>\n",
       "      <td>1<\/td>\n",
       "      <td>VISA 16 digit<\/td>\n",
       "      <td>tyler16@gmail.com<\/td>\n",
       "      <td>...<\/td>\n",
       "      <td>193.0<\/td>\n",
       "      <td>0<\/td>\n",
       "      <td>1<\/td>\n",
       "      <td>0<\/td>\n",
       "      <td>0<\/td>\n",
       "      <td>0<\/td>\n",
       "      <td>0<\/td>\n",
       "      <td>0<\/td>\n",
       "      <td>0<\/td>\n",
       "      <td>0<\/td>\n",
       "    <\/tr>\n",
       "    <tr>\n",
       "      <th>9998<\/th>\n",
       "      <td>0096 English Rest\\nRoystad, IA 12457<\/td>\n",
       "      <td>74 cL<\/td>\n",
       "      <td>PM<\/td>\n",
       "      <td>Mozilla\/5.0 (Macintosh; Intel Mac OS X 10_8_8;...<\/td>\n",
       "      <td>Cook Inc<\/td>\n",
       "      <td>180003348082930<\/td>\n",
       "      <td>11\/17<\/td>\n",
       "      <td>987<\/td>\n",
       "      <td>American Express<\/td>\n",
       "      <td>elizabethmoore@reid.net<\/td>\n",
       "      <td>...<\/td>\n",
       "      <td>640.0<\/td>\n",
       "      <td>0<\/td>\n",
       "      <td>0<\/td>\n",
       "      <td>0<\/td>\n",
       "      <td>1<\/td>\n",
       "      <td>0<\/td>\n",
       "      <td>0<\/td>\n",
       "      <td>0<\/td>\n",
       "      <td>0<\/td>\n",
       "      <td>0<\/td>\n",
       "    <\/tr>\n",
       "    <tr>\n",
       "      <th>9999<\/th>\n",
       "      <td>40674 Barrett Stravenue\\nGrimesville, WI 79682<\/td>\n",
       "      <td>64 Hr<\/td>\n",
       "      <td>AM<\/td>\n",
       "      <td>Mozilla\/5.0 (X11; Linux i686; rv:1.9.5.20) Gec...<\/td>\n",
       "      <td>Greene Inc<\/td>\n",
       "      <td>4139972901927273<\/td>\n",
       "      <td>02\/19<\/td>\n",
       "      <td>302<\/td>\n",
       "      <td>JCB 15 digit<\/td>\n",
       "      <td>rachelford@vaughn.com<\/td>\n",
       "      <td>...<\/td>\n",
       "      <td>385.0<\/td>\n",
       "      <td>0<\/td>\n",
       "      <td>1<\/td>\n",
       "      <td>0<\/td>\n",
       "      <td>0<\/td>\n",
       "      <td>0<\/td>\n",
       "      <td>0<\/td>\n",
       "      <td>0<\/td>\n",
       "      <td>0<\/td>\n",
       "      <td>0<\/td>\n",
       "    <\/tr>\n",
       "  <\/tbody>\n",
       "<\/table>\n",
       "<p>10000 rows × 26 columns<\/p>\n",
       "<\/div>"
      ]
     },
     "metadata":{
      
     },
     "output_type":"display_data"
    }
   ],
   "metadata":{
    "datalore":{
     "node_id":"xtD7MsFqiaJCfcIuA1SF2F",
     "type":"CODE",
     "hide_input_from_viewers":true,
     "hide_output_from_viewers":true
    }
   }
  },
  {
   "cell_type":"markdown",
   "source":[
    "Кінцевий набір даних збережіть у файл з розширенням csv."
   ],
   "attachments":{
    
   },
   "metadata":{
    "datalore":{
     "node_id":"IF6cJuNoc8ki3pHanLsfCx",
     "type":"MD",
     "hide_input_from_viewers":false,
     "hide_output_from_viewers":false,
     "report_properties":{
      "rowId":"BxoRTb7L1ZLUc8KrfT1Gcq"
     }
    }
   }
  },
  {
   "cell_type":"code",
   "source":[
    "encoded_df.to_csv(\"encoded_df Ecommerce Purchases.csv\")"
   ],
   "execution_count":25,
   "outputs":[
    
   ],
   "metadata":{
    "datalore":{
     "node_id":"PEi6MyS9WGs6w5GZyTFwfc",
     "type":"CODE",
     "hide_input_from_viewers":false,
     "hide_output_from_viewers":false,
     "report_properties":{
      "rowId":"9Q9AtcBh8fPOhDAZyEgPzd"
     }
    }
   }
  }
 ],
 "metadata":{
  "kernelspec":{
   "display_name":"Python",
   "language":"python",
   "name":"python"
  },
  "datalore":{
   "computation_mode":"JUPYTER",
   "package_manager":"pip",
   "base_environment":"default",
   "packages":[
    
   ],
   "report_row_ids":[
    "h11qKBohMu07z9eV5AqzsT",
    "xMS1dTfiSMLeop1Zqdd2Wg",
    "5n0y9ehlvO1lCV3DlPqiYq",
    "8Cmfu8LSi3BjUIpBqY03Cw",
    "mebJEDv2r1vS9IMtJJ7GrO",
    "KOx1pwSwe2dVGjRgHK4z7q",
    "bNjLTEGd4mPA3l9AMCDuNB",
    "mECUrSmmyYATvyqUieYGjN",
    "3LquNnNbClLj7Pztz6fzD2",
    "1cFRSWvk8YVDD4HgVesJr7",
    "cW95us0BQ68zreNzMrLzoA",
    "8Ua8Zzm8ZUdz9En7yCBKil",
    "DoPrNnlfHphuuzexEo9rEe",
    "693DJL1W4eQr1pWJm2IjYh",
    "kD3KF1qjlOEoSAFkftYbJW",
    "q0uVF9UIO1Qjn66vTOvTON",
    "hjkTtr3flw8AKrxRTox5I8",
    "0lSgKTHmtL0Jzz5vqB2WUg",
    "77t4TkyzN16uFwfOKRg5iz",
    "LpYdktMOz7aOss9Y50LLDh",
    "0iUFPzLMs1HjOwkvHlBVWx",
    "5vhiSt3MFsibHDCjAkZw4y",
    "9dYYXPofUqFo0uWALxKK9J",
    "dBJGkskvv06O32H6Ol0S9B",
    "uJTeQx3KyeqZ9EzDFwjqd5",
    "Kv2IRlbY2TqKCOBkUE6JRP",
    "loTvMvkTaaDfQmMYKeOCsm",
    "Mq6btdOl9QQ70NElGA6M3E",
    "uEAB0KGpKbUc4sjvRxw4e0",
    "eQdgIPRMcOdcBFxi3lZ89K",
    "6vZ31wNFuNvBc3kAqfUgKN",
    "vMEra3Yr3YmFeFO5HTIQ18",
    "fRSa1djjoQEbQ39imd8pHV",
    "oYHyqu9s2zO40dK4IVlkT6",
    "DF4mcCWUQKALXadpYGVqco",
    "YACbXitS6sTGrKxlIhbqcE",
    "SnryV2Wu8bciPm7lCKiKIe",
    "GCFH41Nmd67jGOnHzwz2Kx",
    "uv0wdeMSbiek8si2KUhsj0",
    "LOTX1jdPG7LrlBR2l3Tamu",
    "BxoRTb7L1ZLUc8KrfT1Gcq",
    "9Q9AtcBh8fPOhDAZyEgPzd"
   ],
   "version":2
  }
 },
 "nbformat":4,
 "nbformat_minor":4
}